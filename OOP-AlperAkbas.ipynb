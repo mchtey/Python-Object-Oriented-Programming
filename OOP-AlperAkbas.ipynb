{
 "cells": [
  {
   "cell_type": "markdown",
   "id": "f5214c28-df28-4c62-b005-cdc1acec6848",
   "metadata": {
    "tags": []
   },
   "source": [
    "# <font color=orange>**Nesne Tabanli Programlamaya**</font>\n",
    "## <font color=gray>**(Object Oriented Programming)**</font>"
   ]
  },
  {
   "cell_type": "markdown",
   "id": "35ed95ee-7813-4dd3-8ffb-2120a31b54aa",
   "metadata": {},
   "source": [
    "### <font color=gold>**Egitim**</font> <font color=gray>**-**</font>"
   ]
  },
  {
   "cell_type": "code",
   "execution_count": 38,
   "id": "d41f5d6f-ec4e-4b6c-b396-d13ec771709a",
   "metadata": {},
   "outputs": [],
   "source": [
    "class Personel():\n",
    "    \n",
    "    personel_sayisi = 0\n",
    "    zam_orani = 1.05\n",
    "    \n",
    "    def __init__(self,isim,soyisim,maas):\n",
    "        self.isim = isim\n",
    "        self.soyisim = soyisim\n",
    "        self.maas = maas\n",
    "        self.eposta = f'{isim.lower()}.{soyisim.lower()}@firma.com'\n",
    "  \n",
    "    def tamAd(self):\n",
    "        return f'{self.isim} {self.soyisim}'\n",
    "    \n",
    "    def zamUygula(self):\n",
    "        self.maas = int(self.maas * self.zam_orani)\n",
    "    "
   ]
  },
  {
   "cell_type": "code",
   "execution_count": 39,
   "id": "e319eaa5-3d3f-4a6f-ac5a-3edc5ab08195",
   "metadata": {},
   "outputs": [],
   "source": [
    "per_1 = Personel('Muhammed', 'Yilmaz', 30000)\n",
    "per_2 = Personel('Omer', 'Sepet', 35000)"
   ]
  },
  {
   "cell_type": "code",
   "execution_count": 40,
   "id": "14841252-8df8-463b-8e4b-22422aca9f00",
   "metadata": {},
   "outputs": [
    {
     "name": "stdout",
     "output_type": "stream",
     "text": [
      "30000\n"
     ]
    }
   ],
   "source": [
    "print(per_1.maas)"
   ]
  },
  {
   "cell_type": "code",
   "execution_count": 41,
   "id": "33089641-d084-429e-b101-035937c2720b",
   "metadata": {},
   "outputs": [
    {
     "name": "stdout",
     "output_type": "stream",
     "text": [
      "31500\n"
     ]
    }
   ],
   "source": [
    "per_1.zamUygula()\n",
    "print(per_1.maas)"
   ]
  },
  {
   "cell_type": "code",
   "execution_count": 42,
   "id": "0b296309-b3a8-45f2-80de-089225c61224",
   "metadata": {},
   "outputs": [
    {
     "name": "stdout",
     "output_type": "stream",
     "text": [
      "1.05\n",
      "1.05\n",
      "1.05\n"
     ]
    }
   ],
   "source": [
    "# Zam oranlarina bakma:\n",
    "print(Personel.zam_orani)\n",
    "print(per_1.zam_orani)\n",
    "print(per_2.zam_orani)"
   ]
  },
  {
   "cell_type": "code",
   "execution_count": 43,
   "id": "9af8aa6a-6c09-4e2a-92f7-74a6eb14d23b",
   "metadata": {},
   "outputs": [
    {
     "name": "stdout",
     "output_type": "stream",
     "text": [
      "{'isim': 'Muhammed', 'soyisim': 'Yilmaz', 'maas': 31500, 'eposta': 'muhammed.yilmaz@firma.com'}\n",
      "_ __ __ __ __ __ __ __ __ __ __ __ __ __ __ __ __ __ __ __ __ __ __ __ __ __ __ __ __ __ __ __ _\n",
      "{'__module__': '__main__', 'personel_sayisi': 0, 'zam_orani': 1.05, '__init__': <function Personel.__init__ at 0x0000012368330A60>, 'tamAd': <function Personel.tamAd at 0x0000012368330F70>, 'zamUygula': <function Personel.zamUygula at 0x0000012368330940>, '__dict__': <attribute '__dict__' of 'Personel' objects>, '__weakref__': <attribute '__weakref__' of 'Personel' objects>, '__doc__': None}\n"
     ]
    }
   ],
   "source": [
    "print(per_1.__dict__)\n",
    "print('_ _'*32)\n",
    "print(Personel.__dict__)"
   ]
  },
  {
   "cell_type": "code",
   "execution_count": 44,
   "id": "417e93e1-7147-4e79-a3a6-f59c31328d6a",
   "metadata": {},
   "outputs": [],
   "source": [
    "from pprint import pprint"
   ]
  },
  {
   "cell_type": "code",
   "execution_count": 45,
   "id": "08c81638-73e4-4b1b-8da5-e4fdc9bbd9b5",
   "metadata": {},
   "outputs": [
    {
     "name": "stdout",
     "output_type": "stream",
     "text": [
      "{'eposta': 'muhammed.yilmaz@firma.com',\n",
      " 'isim': 'Muhammed',\n",
      " 'maas': 31500,\n",
      " 'soyisim': 'Yilmaz'}\n",
      "'-------------------------Manipuleden Sonra---------------------'\n",
      "{'isim': 'Muhammed', 'soyisim': 'Yilmaz', 'maas': 31500, 'eposta': 'muhammed.yilmaz@firma.com', 'zam_orani': 1.1}\n"
     ]
    }
   ],
   "source": [
    "pprint(per_1.__dict__)\n",
    "per_1.zam_orani = 1.1\n",
    "pprint('-------------------------Manipuleden Sonra---------------------')\n",
    "print(per_1.__dict__)"
   ]
  },
  {
   "cell_type": "code",
   "execution_count": 56,
   "id": "b9186908-b646-4890-8aee-9f01e1dc8efc",
   "metadata": {},
   "outputs": [
    {
     "name": "stdout",
     "output_type": "stream",
     "text": [
      " 0\n",
      "---\n",
      " 2\n"
     ]
    }
   ],
   "source": [
    "class Personel():\n",
    "    \n",
    "    personel_sayisi = 0\n",
    "    zam_orani = 1.05\n",
    "    \n",
    "    def __init__(self,isim,soyisim,maas):\n",
    "        self.isim = isim\n",
    "        self.soyisim = soyisim\n",
    "        self.maas = maas\n",
    "        self.eposta = f'{isim.lower()}.{soyisim.lower()}@firma.com'\n",
    "       \n",
    "        Personel.personel_sayisi += 1\n",
    "        \n",
    "        \n",
    "        \n",
    "    def tamAd(self):\n",
    "        return f'{self.isim} {self.soyisim}'\n",
    "    \n",
    "    def zamUygula(self):\n",
    "        self.maas = int(self.maas * self.zam_orani)\n",
    "        \n",
    "        \n",
    "print(' ' + str(Personel.personel_sayisi))\n",
    "per_1 = Personel('John', 'Smith', 30000)\n",
    "per_2 = Personel('Mary', 'Smith', 35000)\n",
    "print('---')\n",
    "print(' ' + str(Personel.personel_sayisi)) "
   ]
  },
  {
   "cell_type": "code",
   "execution_count": 57,
   "id": "d0b605e4-94ed-469d-b3d3-85cb8a147ef3",
   "metadata": {},
   "outputs": [],
   "source": [
    "# Reguler Methods"
   ]
  },
  {
   "cell_type": "code",
   "execution_count": 62,
   "id": "1ee3d600-f7f8-465c-80dc-00425a02d354",
   "metadata": {},
   "outputs": [
    {
     "name": "stdout",
     "output_type": "stream",
     "text": [
      "Eski zam orani: (1.05) guncellendi. Yeni oran: 1.3\n",
      "1.3\n",
      "1.3\n",
      "1.3\n"
     ]
    }
   ],
   "source": [
    "class Personel():\n",
    "    \n",
    "    personel_sayisi = 0\n",
    "    zam_orani = 1.05\n",
    "    \n",
    "    def __init__(self,isim,soyisim,maas):\n",
    "        self.isim = isim\n",
    "        self.soyisim = soyisim\n",
    "        self.maas = maas\n",
    "        self.eposta = f'{isim.lower()}.{soyisim.lower()}@firma.com'\n",
    "       \n",
    "        Personel.personel_sayisi += 1\n",
    "        \n",
    "        \n",
    "        \n",
    "    def tamAd(self):\n",
    "        return f'{self.isim} {self.soyisim}'\n",
    "    \n",
    "    def zamUygula(self):\n",
    "        self.maas = int(self.maas * self.zam_orani)\n",
    "    \n",
    "    \n",
    "    # Ikinci bir zam oranini yeni bir arguman olarak kullanmak Tumune uygulama:\n",
    "    # Arguman oalrak sinifin kendisini almak istersek: yani self yerine:    \n",
    "    # Kullanilacak metodun hemen üzerine @classmethod yazilir.\n",
    "    @classmethod\n",
    "    def zam_oranini_belirle(cls,oran):\n",
    "        eski_oran = cls.zam_orani\n",
    "        cls.zam_orani = oran\n",
    "        print(f'Eski zam orani: ({eski_oran}) guncellendi. Yeni oran: {cls.zam_orani}')\n",
    "\n",
    "\n",
    "\n",
    "per_1 = Personel('John', 'Smith', 30000)\n",
    "per_2 = Personel('Mary', 'Smith', 35000)\n",
    "\n",
    "\n",
    "Personel.zam_oranini_belirle(1.3)\n",
    "print(Personel.zam_orani)\n",
    "print(per_1.zam_orani)\n",
    "print(per_2.zam_orani)"
   ]
  },
  {
   "cell_type": "code",
   "execution_count": 64,
   "id": "2932c49e-e709-461e-9745-b379a0f61ab2",
   "metadata": {
    "collapsed": true,
    "jupyter": {
     "outputs_hidden": true
    },
    "tags": []
   },
   "outputs": [
    {
     "name": "stdout",
     "output_type": "stream",
     "text": [
      "----------------------------------------\n"
     ]
    },
    {
     "data": {
      "text/plain": [
       "'\\nBelli bir text formatini string split ile bolmek\\nargumanlari almak sinifimiz icerisinde bu argumanlar uzerinde\\nyeni nesne yaratmak ve dondurmek\\n'"
      ]
     },
     "execution_count": 64,
     "metadata": {},
     "output_type": "execute_result"
    }
   ],
   "source": [
    "print('--'*20)\n",
    "'''\n",
    "Belli bir text formatini string split ile bolmek\n",
    "argumanlari almak sinifimiz icerisinde bu argumanlar uzerinde\n",
    "yeni nesne yaratmak ve dondurmek\n",
    "'''"
   ]
  },
  {
   "cell_type": "code",
   "execution_count": 63,
   "id": "2a714b2c-f68d-42e3-afc4-6a74cbbca960",
   "metadata": {},
   "outputs": [
    {
     "name": "stdout",
     "output_type": "stream",
     "text": [
      "sam.winchester@firma.com\n",
      "40000\n"
     ]
    }
   ],
   "source": [
    "class Personel():\n",
    "    \n",
    "    personel_sayisi = 0\n",
    "    zam_orani = 1.05\n",
    "    \n",
    "    def __init__(self,isim,soyisim,maas):\n",
    "        self.isim = isim\n",
    "        self.soyisim = soyisim\n",
    "        self.maas = maas\n",
    "        self.eposta = f'{isim.lower()}.{soyisim.lower()}@firma.com'\n",
    "       \n",
    "        Personel.personel_sayisi += 1\n",
    "        \n",
    "        \n",
    "        \n",
    "    def tamAd(self):\n",
    "        return f'{self.isim} {self.soyisim}'\n",
    "    \n",
    "    def zamUygula(self):\n",
    "        self.maas = int(self.maas * self.zam_orani)\n",
    "    \n",
    "    \n",
    "    # Ikinci bir zam oranini yeni bir arguman olarak kullanmak Tumune uygulama:\n",
    "    # Arguman oalrak sinifin kendisini almak istersek: yani self yerine:    \n",
    "    # Kullanilacak metodun hemen üzerine @classmethod yazilir.\n",
    "    @classmethod\n",
    "    def zam_oranini_belirle(cls,oran):\n",
    "        eski_oran = cls.zam_orani\n",
    "        cls.zam_orani = oran\n",
    "        print(f'Eski zam orani: ({eski_oran}) guncellendi. Yeni oran: {cls.zam_orani}')\n",
    "\n",
    "    \n",
    "    @classmethod\n",
    "    def from_string(cls,per_str):\n",
    "        isim, soyisim, maas = per_str.split('-')\n",
    "        return cls(isim,soyisim,maas)\n",
    "\n",
    "per_1 = Personel('John', 'Smith', 30000)\n",
    "per_2 = Personel('Mary', 'Smith', 35000)\n",
    "\n",
    "per_str_1 = 'Sam-Winchester-40000'\n",
    "per_str_2 = 'Dean-Winchester-60000'\n",
    "per_str_3 = 'Bobby-Singer-60000'\n",
    "\n",
    "yeni_per_1 = Personel.from_string('Sam-Winchester-40000')\n",
    "\n",
    "print(yeni_per_1.eposta)\n",
    "print(yeni_per_1.maas)"
   ]
  },
  {
   "cell_type": "code",
   "execution_count": 67,
   "id": "ba9ad650-89b4-42ca-a279-ef23e40b1a66",
   "metadata": {},
   "outputs": [],
   "source": [
    "from datetime import datetime"
   ]
  },
  {
   "cell_type": "code",
   "execution_count": 69,
   "id": "5ba23d87-60c0-4969-af9c-1fbf222cd297",
   "metadata": {},
   "outputs": [
    {
     "name": "stdout",
     "output_type": "stream",
     "text": [
      "2018-12-25 12:27:53\n"
     ]
    }
   ],
   "source": [
    "class Personel():\n",
    "    \n",
    "    personel_sayisi = 0\n",
    "    zam_orani = 1.05\n",
    "    \n",
    "    def __init__(self,isim,soyisim,maas):\n",
    "        self.isim = isim\n",
    "        self.soyisim = soyisim\n",
    "        self.maas = maas\n",
    "        self.eposta = f'{isim.lower()}.{soyisim.lower()}@firma.com'\n",
    "       \n",
    "        Personel.personel_sayisi += 1\n",
    "        \n",
    "        \n",
    "        \n",
    "    def tamAd(self):\n",
    "        return f'{self.isim} {self.soyisim}'\n",
    "    \n",
    "    def zamUygula(self):\n",
    "        self.maas = int(self.maas * self.zam_orani)\n",
    "    \n",
    "    \n",
    "    # Ikinci bir zam oranini yeni bir arguman olarak kullanmak Tumune uygulama:\n",
    "    # Arguman oalrak sinifin kendisini almak istersek: yani self yerine:    \n",
    "    # Kullanilacak metodun hemen üzerine @classmethod yazilir.\n",
    "    @classmethod\n",
    "    def zam_oranini_belirle(cls,oran):\n",
    "        eski_oran = cls.zam_orani\n",
    "        cls.zam_orani = oran\n",
    "        print(f'Eski zam orani: ({eski_oran}) guncellendi. Yeni oran: {cls.zam_orani}')\n",
    "\n",
    "    \n",
    "    @classmethod\n",
    "    def from_string(cls,per_str):\n",
    "        isim, soyisim, maas = per_str.split('-')\n",
    "        return cls(isim,soyisim,maas)\n",
    "\n",
    "per_1 = Personel('John', 'Smith', 30000)\n",
    "per_2 = Personel('Mary', 'Smith', 35000)\n",
    "\n",
    "per_str_1 = 'Sam-Winchester-40000'\n",
    "per_str_2 = 'Dean-Winchester-60000'\n",
    "per_str_3 = 'Bobby-Singer-60000'\n",
    "\n",
    "yeni_per_1 = Personel.from_string('Sam-Winchester-40000')\n",
    "\n",
    "timestamp = 1545730073\n",
    "dt_object = datetime.fromtimestamp(timestamp)\n",
    "print(dt_object)\n"
   ]
  },
  {
   "cell_type": "code",
   "execution_count": null,
   "id": "7cb006a7-a662-4163-a6d2-57d74088965f",
   "metadata": {},
   "outputs": [],
   "source": []
  },
  {
   "cell_type": "code",
   "execution_count": 70,
   "id": "02590a0e-cfed-4411-9f03-8b8753e7736c",
   "metadata": {},
   "outputs": [],
   "source": [
    "# Statik Argumanlar"
   ]
  },
  {
   "cell_type": "code",
   "execution_count": 84,
   "id": "e6a2b41b-9e32-4605-b02f-d310559a4e71",
   "metadata": {},
   "outputs": [],
   "source": [
    "class Personel():\n",
    "    \n",
    "    personel_sayisi = 0\n",
    "    zam_orani = 1.05\n",
    "    \n",
    "    '''\n",
    "    REGULAR / NORMAL\n",
    "    '''\n",
    "    \n",
    "    def __init__(self,isim,soyisim,maas):\n",
    "        self.isim = isim\n",
    "        self.soyisim = soyisim\n",
    "        self.maas = maas\n",
    "        self.eposta = f'{isim.lower()}.{soyisim.lower()}@firma.com'\n",
    "       \n",
    "        Personel.personel_sayisi += 1\n",
    "        \n",
    "        \n",
    "        \n",
    "    def tamAd(self):\n",
    "        return f'{self.isim} {self.soyisim}'\n",
    "    \n",
    "    def zamUygula(self):\n",
    "        self.maas = int(self.maas * self.zam_orani)\n",
    "    \n",
    "    '''\n",
    "    CLASS / SINIF\n",
    "    '''\n",
    "    # Ikinci bir zam oranini yeni bir arguman olarak kullanmak Tumune uygulama:\n",
    "    # Arguman oalrak sinifin kendisini almak istersek: yani self yerine:    \n",
    "    # Kullanilacak metodun hemen üzerine @classmethod yazilir.\n",
    "    @classmethod\n",
    "    def zam_oranini_belirle(cls,oran):\n",
    "        eski_oran = cls.zam_orani\n",
    "        cls.zam_orani = oran\n",
    "        print(f'Eski zam orani: ({eski_oran}) guncellendi. Yeni oran: {cls.zam_orani}')\n",
    "\n",
    "    \n",
    "    @classmethod\n",
    "    def from_string(cls,per_str):\n",
    "        isim, soyisim, maas = per_str.split('-')\n",
    "        return cls(isim,soyisim,maas)\n",
    "    '''\n",
    "    STATIC\n",
    "    '''\n",
    " \n",
    "    @staticmethod\n",
    "    def mesai_gunu(gun):\n",
    "        if gun.weekday() == 5 or gun.weekday() == 6:\n",
    "            return 'Hafta Sonu'\n",
    "            \n",
    "        else:\n",
    "            return 'Hafta Ici'"
   ]
  },
  {
   "cell_type": "code",
   "execution_count": 83,
   "id": "445acbe8-8783-4542-a687-4b988d2ccf5d",
   "metadata": {},
   "outputs": [
    {
     "name": "stdout",
     "output_type": "stream",
     "text": [
      "27\n",
      "Hafta Ici\n"
     ]
    }
   ],
   "source": [
    "import datetime\n",
    "\n",
    "\n",
    "tarih = datetime.date(2020,3,27)\n",
    "print(tarih.day)\n",
    "print(Personel.mesai_gunu(tarih))"
   ]
  },
  {
   "cell_type": "markdown",
   "id": "15cb4cf3-8f4a-415d-b863-31182798860d",
   "metadata": {},
   "source": [
    "Eger sinifimiz icerisinde metod olstururken, sinif ya da nesne icerisindeki diger degerlere ihtiyac duyulmuyorsa static metod kullanilmasi gerekir."
   ]
  },
  {
   "cell_type": "markdown",
   "id": "233af4c6-68d2-4603-ad61-8ff48f198306",
   "metadata": {},
   "source": [
    "#### <font color=gold>**Inheritance**</font> <font color=gray>**(Kalitim)**</font>"
   ]
  },
  {
   "cell_type": "code",
   "execution_count": 89,
   "id": "f779d047-7fb0-44d0-ba60-66bcf51c0c4c",
   "metadata": {},
   "outputs": [
    {
     "name": "stdout",
     "output_type": "stream",
     "text": [
      "muhammed.yilmaz@firma.com\n",
      "omer.sepet@firma.com\n",
      "------------------------------\n",
      "muhammed.yilmaz@firma.com\n",
      "omer.sepet@firma.com\n"
     ]
    }
   ],
   "source": [
    "class Personel():\n",
    "\n",
    "    zam_orani = 1.05\n",
    "    \n",
    "\n",
    "    def __init__(self,isim,soyisim,maas):\n",
    "        self.isim = isim.title()\n",
    "        self.soyisim = soyisim.title()\n",
    "        self.maas = maas\n",
    "        self.eposta = f'{isim.lower()}.{soyisim.lower()}@firma.com'\n",
    "        \n",
    "        \n",
    "        \n",
    "    def tam_isim(self):\n",
    "        return f'{self.isim} {self.soyisim}'\n",
    "    \n",
    "    def zamUygula(self):\n",
    "        self.maas = int(self.maas * self.zam_orani)\n",
    "        \n",
    "        \n",
    "class Yazilimci(Personel):\n",
    "    pass\n",
    "\n",
    "\n",
    "yaz_1 = Personel('Muhammed', 'Yilmaz', 10000)\n",
    "yaz_2 = Personel('Omer', 'Sepet', 15000)\n",
    "print(yaz_1.eposta)\n",
    "print(yaz_2.eposta)\n",
    "\n",
    "# Yukaridaki kodlarin ciktisi:\n",
    "'''\n",
    "muhammed.yilmaz@firma.com\n",
    "omer.sepet@firma.com\n",
    "'''\n",
    "\n",
    "# Eger Personel yerine Yaizilimci class'ini kullanirsak\n",
    "# Kalitim yoluyla pass desek de ozellikleri tasimaktadir.\n",
    "print('--'*15)\n",
    "yaz_1 = Yazilimci('Muhammed', 'Yilmaz', 10000)\n",
    "yaz_2 = Yazilimci('Omer', 'Sepet', 15000)\n",
    "print(yaz_1.eposta)\n",
    "print(yaz_2.eposta)"
   ]
  },
  {
   "cell_type": "code",
   "execution_count": 92,
   "id": "7e2a15de-a1ab-4cbf-8bc4-c196beb97483",
   "metadata": {},
   "outputs": [
    {
     "name": "stdout",
     "output_type": "stream",
     "text": [
      "Help on class Yazilimci in module __main__:\n",
      "\n",
      "class Yazilimci(Personel)\n",
      " |  Yazilimci(isim, soyisim, maas)\n",
      " |  \n",
      " |  Method resolution order:\n",
      " |      Yazilimci\n",
      " |      Personel\n",
      " |      builtins.object\n",
      " |  \n",
      " |  Methods inherited from Personel:\n",
      " |  \n",
      " |  __init__(self, isim, soyisim, maas)\n",
      " |      Initialize self.  See help(type(self)) for accurate signature.\n",
      " |  \n",
      " |  tam_isim(self)\n",
      " |  \n",
      " |  zamUygula(self)\n",
      " |  \n",
      " |  ----------------------------------------------------------------------\n",
      " |  Data descriptors inherited from Personel:\n",
      " |  \n",
      " |  __dict__\n",
      " |      dictionary for instance variables (if defined)\n",
      " |  \n",
      " |  __weakref__\n",
      " |      list of weak references to the object (if defined)\n",
      " |  \n",
      " |  ----------------------------------------------------------------------\n",
      " |  Data and other attributes inherited from Personel:\n",
      " |  \n",
      " |  zam_orani = 1.05\n",
      "\n",
      "None\n"
     ]
    }
   ],
   "source": [
    "print(help(Yazilimci))"
   ]
  },
  {
   "cell_type": "code",
   "execution_count": 103,
   "id": "e2f35cac-d9ba-4c31-bf7d-91a7ceeeb854",
   "metadata": {},
   "outputs": [
    {
     "name": "stdout",
     "output_type": "stream",
     "text": [
      "Zam Oncesi: 10000 Personel zam orani\n",
      "Zam Sonrasi: 11000 Yazilimci zam orani\n"
     ]
    }
   ],
   "source": [
    "class Personel():\n",
    "\n",
    "    zam_orani = 1.05\n",
    "    \n",
    "\n",
    "    def __init__(self,isim,soyisim,maas):\n",
    "        self.isim = isim.title()\n",
    "        self.soyisim = soyisim.title()\n",
    "        self.maas = maas\n",
    "        self.eposta = f'{isim.lower()}.{soyisim.lower()}@firma.com'\n",
    "        \n",
    "        \n",
    "        \n",
    "    def tam_isim(self):\n",
    "        return f'{self.isim} {self.soyisim}'\n",
    "    \n",
    "    def zamUygula(self):\n",
    "        self.maas = int(self.maas * self.zam_orani)\n",
    "        \n",
    "        \n",
    "class Yazilimci(Personel):\n",
    "    zam_orani = 1.1\n",
    "\n",
    "\n",
    "yaz_1 = Yazilimci('Muhammed', 'Yilmaz', 10000)\n",
    "yaz_2 = Yazilimci('Omer', 'Sepet', 15000)\n",
    "\n",
    "print('Zam Oncesi:',yaz_1.maas,'Personel zam orani')\n",
    "yaz_1.zamUygula()\n",
    "print('Zam Sonrasi:',yaz_1.maas,'Yazilimci zam orani')"
   ]
  },
  {
   "cell_type": "code",
   "execution_count": 108,
   "id": "29ce434d-5658-49b1-99ae-45518033d465",
   "metadata": {},
   "outputs": [
    {
     "name": "stdout",
     "output_type": "stream",
     "text": [
      "Yeni Personel Tanimlandi: Muhammed Yilmaz\n",
      "Yeni personel yazilimci kategorisine tasindi: Muhammed Yilmaz\n",
      "muhammed.yilmaz@firma.com\n",
      "python\n"
     ]
    }
   ],
   "source": [
    "class Personel():\n",
    "\n",
    "    zam_orani = 1.05\n",
    "    \n",
    "\n",
    "    def __init__(self,isim,soyisim,maas):\n",
    "        self.isim = isim.title()\n",
    "        self.soyisim = soyisim.title()\n",
    "        self.maas = maas\n",
    "        self.eposta = f'{isim.lower()}.{soyisim.lower()}@firma.com'\n",
    "        print(f'Yeni Personel Tanimlandi: {isim} {soyisim}')\n",
    "        \n",
    "        \n",
    "        \n",
    "    def tam_isim(self):\n",
    "        return f'{self.isim} {self.soyisim}'\n",
    "    \n",
    "    def zamUygula(self):\n",
    "        self.maas = int(self.maas * self.zam_orani)\n",
    "        \n",
    "        \n",
    "class Yazilimci(Personel):\n",
    "    zam_orani = 1.1\n",
    "    \n",
    "    def __init__(self,isim,soyisim,maas,prog_dil):\n",
    "        super().__init__(isim,soyisim,maas)\n",
    "        print(f'Yeni personel yazilimci kategorisine tasindi: {self.isim} {self.soyisim}')\n",
    "        self.prog_dil = prog_dil\n",
    "        \n",
    "\n",
    "\n",
    "yaz_1 = Yazilimci('Muhammed', 'Yilmaz', 10000,'python')\n",
    "#yaz_2 = Yazilimci('Omer', 'Sepet', 15000,'java')\n",
    "\n",
    "print(yaz_1.eposta)\n",
    "print(yaz_1.prog_dil)"
   ]
  },
  {
   "cell_type": "code",
   "execution_count": 110,
   "id": "8e9b65f7-29b5-44c6-bb00-d03d698e8fd0",
   "metadata": {},
   "outputs": [
    {
     "name": "stdout",
     "output_type": "stream",
     "text": [
      "vera.yilmaz@firma.com\n"
     ]
    }
   ],
   "source": [
    "class Personel():\n",
    "\n",
    "    zam_orani = 1.05\n",
    "    \n",
    "\n",
    "    def __init__(self,isim,soyisim,maas):\n",
    "        self.isim = isim.title()\n",
    "        self.soyisim = soyisim.title()\n",
    "        self.maas = maas\n",
    "        self.eposta = f'{isim.lower()}.{soyisim.lower()}@firma.com'\n",
    "        #print(f'Yeni Personel Tanimlandi: {isim} {soyisim}')\n",
    "        \n",
    "        \n",
    "        \n",
    "    def tam_isim(self):\n",
    "        return f'{self.isim} {self.soyisim}'\n",
    "    \n",
    "    def zamUygula(self):\n",
    "        self.maas = int(self.maas * self.zam_orani)\n",
    "        \n",
    "        \n",
    "class Yazilimci(Personel):\n",
    "    zam_orani = 1.1\n",
    "    \n",
    "    def __init__(self,isim,soyisim,maas,prog_dil):\n",
    "        super().__init__(isim,soyisim,maas)\n",
    "        #print(f'Yeni personel yazilimci kategorisine tasindi: {self.isim} {self.soyisim}')\n",
    "        self.prog_dil = prog_dil\n",
    "        \n",
    "        \n",
    "class Mudur(Personel):\n",
    "    def __init__(self, isim, soyisim, maas, personeller = None):\n",
    "        super().__init__(isim,soyisim,maas)\n",
    "        \n",
    "        if personeller is None:\n",
    "            self.personeller = []\n",
    "        else:\n",
    "            self.personeller = personeller\n",
    "\n",
    "#yaz_1 = Yazilimci('Muhammed', 'Yilmaz', 10000,'python')\n",
    "#yaz_2 = Yazilimci('Omer', 'Sepet', 15000,'java')\n",
    "\n",
    "#print(yaz_1.eposta)\n",
    "#print(yaz_1.prog_dil)\n",
    "\n",
    "mdr_1 = Mudur('Vera', 'Yilmaz', 50000, [yaz_1,yaz_2])\n",
    "mdr_2 = Mudur('Esma','Aktas',35000)\n",
    "\n",
    "print(mdr_1.eposta)"
   ]
  },
  {
   "cell_type": "code",
   "execution_count": 120,
   "id": "b505dd99-d5f1-4ce2-9eb0-f5d58350723f",
   "metadata": {},
   "outputs": [
    {
     "name": "stdout",
     "output_type": "stream",
     "text": [
      "Vera Yilmaz\n",
      "----------------------------------------\n",
      "1 Muhammed Yilmaz\n",
      "----------------------------------------\n",
      "1 Omer Sepet\n"
     ]
    }
   ],
   "source": [
    "class Personel():\n",
    "\n",
    "    zam_orani = 1.05\n",
    "    \n",
    "\n",
    "    def __init__(self,isim,soyisim,maas):\n",
    "        self.isim = isim.title()\n",
    "        self.soyisim = soyisim.title()\n",
    "        self.maas = maas\n",
    "        self.eposta = f'{isim.lower()}.{soyisim.lower()}@firma.com'\n",
    "        #print(f'Yeni Personel Tanimlandi: {isim} {soyisim}')\n",
    "        \n",
    "        \n",
    "        \n",
    "    def tam_isim(self):\n",
    "        return f'{self.isim} {self.soyisim}'\n",
    "    \n",
    "    def zamUygula(self):\n",
    "        self.maas = int(self.maas * self.zam_orani)\n",
    "        \n",
    "        \n",
    "class Yazilimci(Personel):\n",
    "    zam_orani = 1.1\n",
    "    \n",
    "    def __init__(self,isim,soyisim,maas,prog_dil):\n",
    "        super().__init__(isim,soyisim,maas)\n",
    "        #print(f'Yeni personel yazilimci kategorisine tasindi: {self.isim} {self.soyisim}')\n",
    "        self.prog_dil = prog_dil\n",
    "        \n",
    "        \n",
    "class Mudur(Personel):\n",
    "    def __init__(self, isim, soyisim, maas, personeller = None):\n",
    "        super().__init__(isim,soyisim,maas)\n",
    "        \n",
    "        if personeller is None:\n",
    "            self.personeller = []\n",
    "        else:\n",
    "            self.personeller = personeller\n",
    "    \n",
    "    \n",
    "    def personel_ekle(self,per):\n",
    "        if per not in self.personeller:\n",
    "            self.personeller.append(per)\n",
    "    \n",
    "\n",
    "    def personel_cikar(self,per):\n",
    "        if per in self.personeller:\n",
    "            self.personeller.remove(per)\n",
    "        \n",
    "    \n",
    "    def personelleri_listele(self):\n",
    "        for e,per in enumerate(self.personeller):\n",
    "            e += 1\n",
    "            print(e,per.tam_isim())\n",
    "\n",
    "yaz_1 = Yazilimci('Muhammed', 'Yilmaz', 10000,'python')\n",
    "yaz_2 = Yazilimci('Omer', 'Sepet', 15000,'java')\n",
    "\n",
    "#print(yaz_1.eposta)\n",
    "#print(yaz_1.prog_dil)\n",
    "\n",
    "mdr_1 = Mudur('Vera', 'Yilmaz', 50000, [yaz_1])\n",
    "\n",
    "\n",
    "print(mdr_1.tam_isim())\n",
    "print('--'*20)\n",
    "mdr_1.personelleri_listele()\n",
    "print('--'*20)\n",
    "mdr_1.personel_ekle(yaz_2)\n",
    "mdr_1.personel_cikar(yaz_1)\n",
    "mdr_1.personelleri_listele()"
   ]
  },
  {
   "cell_type": "markdown",
   "id": "a3daa561-4dde-4501-8e4a-c63d84702d47",
   "metadata": {},
   "source": [
    "#### <font color=gold>**Notlar**</font> <font color=gray>**__**</font>"
   ]
  },
  {
   "cell_type": "code",
   "execution_count": 131,
   "id": "1469cce1-74a0-4051-a5c7-9c1e65b40aef",
   "metadata": {},
   "outputs": [
    {
     "name": "stdout",
     "output_type": "stream",
     "text": [
      "Yazilimci --> True\n",
      "--------------------\n",
      "Personel  --> True\n",
      "--------------------\n",
      "Mudur     --> False\n"
     ]
    }
   ],
   "source": [
    "# isinstance()\n",
    "\n",
    "'''\n",
    "Olusturulan bir nesnenin bir sinifin nesnesi olup olmadigini\n",
    "ve ya bir siniftan uretilip uretilmedigini gosterir.\n",
    "'''\n",
    "\n",
    "print('Yazilimci -->',isinstance(yaz_1,Yazilimci))\n",
    "print('--'*10)\n",
    "print('Personel  -->',isinstance(yaz_1,Personel))\n",
    "print('--'*10)\n",
    "print('Mudur     -->',isinstance(yaz_1,Mudur))"
   ]
  },
  {
   "cell_type": "code",
   "execution_count": 135,
   "id": "4fc1e738-1e42-4622-9ac9-1c854c07190d",
   "metadata": {},
   "outputs": [
    {
     "name": "stdout",
     "output_type": "stream",
     "text": [
      "1453 --> is str?  False\n",
      "--------------------\n",
      "1453 --> is int?  True\n"
     ]
    }
   ],
   "source": [
    "#ornekler:\n",
    "\n",
    "print('1453 --> is str? ',isinstance(1453,str))\n",
    "print('--'*10)\n",
    "print('1453 --> is int? ',isinstance(1453,int))"
   ]
  },
  {
   "cell_type": "code",
   "execution_count": 141,
   "id": "d4677cbf-6417-40f0-8286-895bdfbe2e43",
   "metadata": {},
   "outputs": [
    {
     "name": "stdout",
     "output_type": "stream",
     "text": [
      "Yazilimci --> Personel? True\n",
      "------------------------------\n",
      "Mudur     --> Personel? True\n",
      "------------------------------\n",
      "Mudur     --> Yazilimci? False\n"
     ]
    }
   ],
   "source": [
    "# issubclass()\n",
    "'''\n",
    "Bir sinifin gercekten bir sinifin alt sinifi olup olmadigini sınamaya yarar.\n",
    "'''\n",
    "\n",
    "print('Yazilimci --> Personel?',issubclass(Yazilimci,Personel))\n",
    "print('--'*15)\n",
    "print('Mudur     --> Personel?',issubclass(Mudur,Personel))\n",
    "print('--'*15)\n",
    "print('Mudur     --> Yazilimci?',issubclass(Mudur,Yazilimci))"
   ]
  },
  {
   "cell_type": "markdown",
   "id": "5f610092-f823-40f2-8c19-2cafcc582285",
   "metadata": {},
   "source": [
    "#### <font color=gold>**Ozel Metodlar**</font> <font color=gray>**(Special Methods/Dunder Methods)**</font>"
   ]
  },
  {
   "cell_type": "code",
   "execution_count": 142,
   "id": "3eeae9d3-bdfa-4806-9e70-8ed7b28cc9c4",
   "metadata": {},
   "outputs": [
    {
     "name": "stdout",
     "output_type": "stream",
     "text": [
      "<__main__.Personel object at 0x000001236986CA90>\n"
     ]
    }
   ],
   "source": [
    "class Personel():\n",
    "    \n",
    "    personel_sayisi = 0\n",
    "    zam_orani = 1.05\n",
    "    \n",
    "    def __init__(self,isim,soyisim,maas):\n",
    "        self.isim = isim.title()\n",
    "        self.soyisim = soyisim.title()\n",
    "        self.maas = maas\n",
    "        self.eposta = f'{isim.lower()}.{soyisim.lower()}@firma.com'\n",
    "  \n",
    "    def tam_isim(self):\n",
    "        return f'{self.isim} {self.soyisim}'\n",
    "    \n",
    "    def zamUygula(self):\n",
    "        self.maas = int(self.maas * self.zam_orani)\n",
    "        \n",
    "\n",
    "per_1 = Personel('Muhammed', 'Yilmaz', 30000)\n",
    "per_2 = Personel('Omer', 'Sepet', 35000)\n",
    "\n",
    "print(per_1)"
   ]
  },
  {
   "cell_type": "code",
   "execution_count": 144,
   "id": "cd8610af-509b-4d7f-8750-e93e04ed4667",
   "metadata": {},
   "outputs": [],
   "source": [
    "# Orn, Yukaridaki ciktiyi duzenleyebiliriz."
   ]
  },
  {
   "cell_type": "code",
   "execution_count": 145,
   "id": "eec917dc-4a44-4701-9a94-d483172da7df",
   "metadata": {},
   "outputs": [
    {
     "name": "stdout",
     "output_type": "stream",
     "text": [
      "Bu sinifi tutorial icin olusturdum.\n"
     ]
    }
   ],
   "source": [
    "class Personel():\n",
    "    \n",
    "    personel_sayisi = 0\n",
    "    zam_orani = 1.05\n",
    "    \n",
    "    def __init__(self,isim,soyisim,maas):\n",
    "        self.isim = isim.title()\n",
    "        self.soyisim = soyisim.title()\n",
    "        self.maas = maas\n",
    "        self.eposta = f'{isim.lower()}.{soyisim.lower()}@firma.com'\n",
    "  \n",
    "    def tam_isim(self):\n",
    "        return f'{self.isim} {self.soyisim}'\n",
    "    \n",
    "    def zamUygula(self):\n",
    "        self.maas = int(self.maas * self.zam_orani)\n",
    "        \n",
    "        \n",
    "    def __repr__(self):\n",
    "        return 'Bu sinifi tutorial icin olusturdum.'\n",
    "        \n",
    "\n",
    "per_1 = Personel('Muhammed', 'Yilmaz', 30000)\n",
    "per_2 = Personel('Omer', 'Sepet', 35000)\n",
    "\n",
    "print(per_1)"
   ]
  },
  {
   "cell_type": "code",
   "execution_count": 150,
   "id": "a7eededb-7afd-4c20-a99c-b6122b1545d3",
   "metadata": {},
   "outputs": [
    {
     "name": "stdout",
     "output_type": "stream",
     "text": [
      "Personel('Muhammed', 'Yilmaz', 30000)\n"
     ]
    }
   ],
   "source": [
    "class Personel():\n",
    "    \n",
    "    personel_sayisi = 0\n",
    "    zam_orani = 1.05\n",
    "    \n",
    "    def __init__(self,isim,soyisim,maas):\n",
    "        self.isim = isim.title()\n",
    "        self.soyisim = soyisim.title()\n",
    "        self.maas = maas\n",
    "        self.eposta = f'{isim.lower()}.{soyisim.lower()}@firma.com'\n",
    "  \n",
    "    def tam_isim(self):\n",
    "        return f'{self.isim} {self.soyisim}'\n",
    "    \n",
    "    def zamUygula(self):\n",
    "        self.maas = int(self.maas * self.zam_orani)\n",
    "        \n",
    "        \n",
    "    def __repr__(self):\n",
    "        return f\"Personel('{self.isim}', '{self.soyisim}', {self.maas})\"\n",
    "\n",
    "        \n",
    "\n",
    "per_1 = Personel('Muhammed', 'Yilmaz', 30000)\n",
    "per_2 = Personel('Omer', 'Sepet', 35000)\n",
    "\n",
    "print(per_1)"
   ]
  },
  {
   "cell_type": "code",
   "execution_count": 158,
   "id": "002d3e30-fccf-4c8c-a306-fadc9d3dab8e",
   "metadata": {},
   "outputs": [
    {
     "name": "stdout",
     "output_type": "stream",
     "text": [
      "Muhammed Yilmaz - muhammed.yilmaz@firma.com\n",
      "Personel('Muhammed', 'Yilmaz', 30000)\n",
      "--------------------------------------------\n",
      "Muhammed Yilmaz - muhammed.yilmaz@firma.com\n",
      "Personel('Muhammed', 'Yilmaz', 30000)\n"
     ]
    }
   ],
   "source": [
    "class Personel():\n",
    "    \n",
    "    personel_sayisi = 0\n",
    "    zam_orani = 1.05\n",
    "    \n",
    "    def __init__(self,isim,soyisim,maas):\n",
    "        self.isim = isim.title()\n",
    "        self.soyisim = soyisim.title()\n",
    "        self.maas = maas\n",
    "        self.eposta = f'{isim.lower()}.{soyisim.lower()}@firma.com'\n",
    "  \n",
    "    def tam_isim(self):\n",
    "        return f'{self.isim} {self.soyisim}'\n",
    "    \n",
    "    def zamUygula(self):\n",
    "        self.maas = int(self.maas * self.zam_orani)\n",
    "        \n",
    "        \n",
    "    def __repr__(self):\n",
    "        return f\"Personel('{self.isim}', '{self.soyisim}', {self.maas})\"\n",
    "    \n",
    "    def __str__(self):\n",
    "        return f\"{self.tam_isim()} - {self.eposta}\"\n",
    "        \n",
    "\n",
    "per_1 = Personel('Muhammed', 'Yilmaz', 30000)\n",
    "per_2 = Personel('Omer', 'Sepet', 35000)\n",
    "\n",
    "print(str(per_1)) # Son kullanicilar icin kullanilan ifade\n",
    "print(repr(per_1)) # Diger gelistiriciler icin kullanilan ifade\n",
    "\n",
    "# ya da\n",
    "print('--'*22)\n",
    "print(per_1.__str__())\n",
    "print(per_1.__repr__())"
   ]
  },
  {
   "cell_type": "code",
   "execution_count": 159,
   "id": "1d38accc-49ec-4956-8a6e-7503a0a24f49",
   "metadata": {},
   "outputs": [
    {
     "name": "stdout",
     "output_type": "stream",
     "text": [
      "3\n",
      "ab\n"
     ]
    }
   ],
   "source": [
    "print(1 + 2)\n",
    "print('a' + 'b')"
   ]
  },
  {
   "cell_type": "code",
   "execution_count": 160,
   "id": "8b8aae85-2017-437e-9e9a-2730bbae1456",
   "metadata": {},
   "outputs": [
    {
     "name": "stdout",
     "output_type": "stream",
     "text": [
      "3\n",
      "ab\n"
     ]
    }
   ],
   "source": [
    "print(int.__add__(1,2))\n",
    "print(str.__add__('a','b'))"
   ]
  },
  {
   "cell_type": "code",
   "execution_count": 166,
   "id": "cfcae7c0-7ca3-4de3-abae-03171eb5b51d",
   "metadata": {},
   "outputs": [
    {
     "ename": "TypeError",
     "evalue": "unsupported operand type(s) for +: 'Personel' and 'Personel'",
     "output_type": "error",
     "traceback": [
      "\u001b[1;31m---------------------------------------------------------------------------\u001b[0m",
      "\u001b[1;31mTypeError\u001b[0m                                 Traceback (most recent call last)",
      "\u001b[1;32m~\\AppData\\Local\\Temp\\ipykernel_3528\\2798531839.py\u001b[0m in \u001b[0;36m<module>\u001b[1;34m\u001b[0m\n\u001b[0;32m     30\u001b[0m \u001b[1;33m\u001b[0m\u001b[0m\n\u001b[0;32m     31\u001b[0m \u001b[1;33m\u001b[0m\u001b[0m\n\u001b[1;32m---> 32\u001b[1;33m \u001b[0mprint\u001b[0m\u001b[1;33m(\u001b[0m\u001b[0mper_1\u001b[0m \u001b[1;33m+\u001b[0m \u001b[0mper_2\u001b[0m\u001b[1;33m)\u001b[0m \u001b[1;31m# hata verecektir.\u001b[0m\u001b[1;33m\u001b[0m\u001b[1;33m\u001b[0m\u001b[0m\n\u001b[0m",
      "\u001b[1;31mTypeError\u001b[0m: unsupported operand type(s) for +: 'Personel' and 'Personel'"
     ]
    }
   ],
   "source": [
    "# iki personelin maaslarinin toplamlarini almak istersek:\n",
    "\n",
    "class Personel():\n",
    "    \n",
    "    personel_sayisi = 0\n",
    "    zam_orani = 1.05\n",
    "    \n",
    "    def __init__(self,isim,soyisim,maas):\n",
    "        self.isim = isim.title()\n",
    "        self.soyisim = soyisim.title()\n",
    "        self.maas = maas\n",
    "        self.eposta = f'{isim.lower()}.{soyisim.lower()}@firma.com'\n",
    "  \n",
    "    def tam_isim(self):\n",
    "        return f'{self.isim} {self.soyisim}'\n",
    "    \n",
    "    def zamUygula(self):\n",
    "        self.maas = int(self.maas * self.zam_orani)\n",
    "        \n",
    "        \n",
    "    def __repr__(self):\n",
    "        return f\"Personel('{self.isim}', '{self.soyisim}', {self.maas})\"\n",
    "    \n",
    "    def __str__(self):\n",
    "        return f\"{self.tam_isim()} - {self.eposta}\"\n",
    "\n",
    "\n",
    "per_1 = Personel('Muhammed', 'Yilmaz', 10000)\n",
    "per_2 = Personel('Omer', 'Sepet', 15000)\n",
    "\n",
    "\n",
    "print(per_1 + per_2) # hata verecektir."
   ]
  },
  {
   "cell_type": "code",
   "execution_count": 173,
   "id": "edc7ee64-47e6-467f-9f1b-74fa6d1f715c",
   "metadata": {},
   "outputs": [
    {
     "name": "stdout",
     "output_type": "stream",
     "text": [
      "25000\n",
      "------\n",
      "25000\n",
      "------\n",
      "25000\n"
     ]
    }
   ],
   "source": [
    "# iki personelin maaslarinin toplamlarini almak istersek:\n",
    "\n",
    "class Personel():\n",
    "    \n",
    "    personel_sayisi = 0\n",
    "    zam_orani = 1.05\n",
    "    \n",
    "    def __init__(self,isim,soyisim,maas):\n",
    "        self.isim = isim.title()\n",
    "        self.soyisim = soyisim.title()\n",
    "        self.maas = maas\n",
    "        self.eposta = f'{isim.lower()}.{soyisim.lower()}@firma.com'\n",
    "  \n",
    "    def tam_isim(self):\n",
    "        return f'{self.isim} {self.soyisim}'\n",
    "    \n",
    "    def zamUygula(self):\n",
    "        self.maas = int(self.maas * self.zam_orani)\n",
    "        \n",
    "        \n",
    "    def __repr__(self):\n",
    "        return f\"Personel('{self.isim}', '{self.soyisim}', {self.maas})\"\n",
    "    \n",
    "    def __str__(self):\n",
    "        return f\"{self.tam_isim()} - {self.eposta}\"\n",
    "        \n",
    "        \n",
    "    def __add__(self,other):\n",
    "        return self.maas + other.maas\n",
    "\n",
    "       \n",
    "per_1 = Personel('Muhammed', 'Yilmaz', 10000)\n",
    "per_2 = Personel('Omer', 'Sepet', 15000)\n",
    "\n",
    "\n",
    "print(per_1 + per_2)\n",
    "print('--'*3)\n",
    "print(per_1.__add__(per_2))\n",
    "print('--'*3)\n",
    "print(Personel.__add__(per_1,per_2))"
   ]
  },
  {
   "cell_type": "code",
   "execution_count": 177,
   "id": "f6ed6583-4679-4f91-9135-f16914227ada",
   "metadata": {
    "scrolled": true,
    "tags": []
   },
   "outputs": [
    {
     "name": "stdout",
     "output_type": "stream",
     "text": [
      "15\n",
      "----\n",
      "15\n"
     ]
    }
   ],
   "source": [
    "class Personel():\n",
    "    \n",
    "    personel_sayisi = 0\n",
    "    zam_orani = 1.05\n",
    "    \n",
    "    def __init__(self,isim,soyisim,maas):\n",
    "        self.isim = isim.title()\n",
    "        self.soyisim = soyisim.title()\n",
    "        self.maas = maas\n",
    "        self.eposta = f'{isim.lower()}.{soyisim.lower()}@firma.com'\n",
    "  \n",
    "    def tam_isim(self):\n",
    "        return f'{self.isim} {self.soyisim}'\n",
    "    \n",
    "    def zamUygula(self):\n",
    "        self.maas = int(self.maas * self.zam_orani)\n",
    "        \n",
    "        \n",
    "    def __repr__(self):\n",
    "        return f\"Personel('{self.isim}', '{self.soyisim}', {self.maas})\"\n",
    "    \n",
    "    def __str__(self):\n",
    "        return f\"{self.tam_isim()} - {self.eposta}\"\n",
    "        \n",
    "        \n",
    "    def __add__(self,other):\n",
    "        return self.maas + other.maas\n",
    "\n",
    "    \n",
    "    def __len__(self):\n",
    "        return len(self.tam_isim())\n",
    "    \n",
    "    \n",
    "per_1 = Personel('Muhammed', 'Yilmaz', 10000)\n",
    "per_2 = Personel('Omer', 'Sepet', 15000)\n",
    "\n",
    "print(len(per_1))\n",
    "print('--'*2)\n",
    "print(per_1.__len__())"
   ]
  },
  {
   "cell_type": "markdown",
   "id": "38c6899d-4f0f-4b22-b53f-f5c226bac204",
   "metadata": {},
   "source": [
    "#### <font color=gold>**Property Decorators, Getters, Setters**</font> <font color=gray>**-**</font>"
   ]
  },
  {
   "cell_type": "code",
   "execution_count": 185,
   "id": "c521a01a-c82c-4378-bf89-aa124dc66c5d",
   "metadata": {},
   "outputs": [
    {
     "name": "stdout",
     "output_type": "stream",
     "text": [
      "Muhammed\n",
      "muhammed.yilmaz@firma.com\n"
     ]
    }
   ],
   "source": [
    "class Personel():\n",
    "    \n",
    "    zam_orani = 1.05\n",
    "    \n",
    "    def __init__(self,isim,soyisim,maas):\n",
    "        self.isim = isim.title()\n",
    "        self.soyisim = soyisim.title()\n",
    "        self.maas = maas\n",
    "\n",
    "        \n",
    "    def eposta(self):\n",
    "        return f'{self.isim.lower()}.{self.soyisim.lower()}@firma.com'\n",
    "\n",
    "    \n",
    "    def tam_isim(self):\n",
    "        return f'{self.isim} {self.soyisim}'\n",
    "    \n",
    "per_1 = Personel('Muhammed', 'Yilmaz', 10000)\n",
    "\n",
    "\n",
    "print(per_1.isim)\n",
    "print(per_1.eposta()) # parantezleri koymaz isek hata verecektir."
   ]
  },
  {
   "cell_type": "code",
   "execution_count": 191,
   "id": "2b1a27bf-cb6c-446a-97e1-ffe7e721c46d",
   "metadata": {},
   "outputs": [
    {
     "name": "stdout",
     "output_type": "stream",
     "text": [
      "Murat\n",
      "murat.yilmaz@firma.com\n"
     ]
    }
   ],
   "source": [
    "class Personel():\n",
    "    \n",
    "    zam_orani = 1.05\n",
    "    \n",
    "    def __init__(self,isim,soyisim,maas):\n",
    "        self.isim = isim.title()\n",
    "        self.soyisim = soyisim.title()\n",
    "        self.maas = maas\n",
    "\n",
    "    @property # fonksiyonu ozellikmis gibi algilamasini sagliyoruz.    \n",
    "    def eposta(self):\n",
    "        return f'{self.isim.lower()}.{self.soyisim.lower()}@firma.com'\n",
    "\n",
    "    @property\n",
    "    def tam_isim(self):\n",
    "        return f'{self.isim} {self.soyisim}'\n",
    "    \n",
    "    @tam_isim.setter\n",
    "    def tam_isim(self,ad):\n",
    "        isim, soyisim = ad.split(' ')\n",
    "        self.isim = isim\n",
    "        self.soyisim = soyisim\n",
    "               \n",
    "per_1 = Personel('Muhammed', 'Yilmaz', 10000)\n",
    "\n",
    "per_1.tam_isim = 'Murat Yilmaz'\n",
    "print(per_1.isim)\n",
    "print(per_1.eposta)"
   ]
  },
  {
   "cell_type": "code",
   "execution_count": 192,
   "id": "f62964f4-7363-48e3-934b-94bf068d5e2c",
   "metadata": {},
   "outputs": [
    {
     "name": "stdout",
     "output_type": "stream",
     "text": [
      "Murat\n",
      "murat.yilmaz@firma.com\n",
      "Degiskenler silindi...\n",
      "None\n"
     ]
    }
   ],
   "source": [
    "class Personel():\n",
    "    \n",
    "    zam_orani = 1.05\n",
    "    \n",
    "    def __init__(self,isim,soyisim,maas):\n",
    "        self.isim = isim.title()\n",
    "        self.soyisim = soyisim.title()\n",
    "        self.maas = maas\n",
    "\n",
    "    @property # fonksiyonu ozellikmis gibi algilamasini sagliyoruz.    \n",
    "    def eposta(self):\n",
    "        return f'{self.isim.lower()}.{self.soyisim.lower()}@firma.com'\n",
    "\n",
    "    @property\n",
    "    def tam_isim(self):\n",
    "        return f'{self.isim} {self.soyisim}'\n",
    "    \n",
    "    @tam_isim.setter\n",
    "    def tam_isim(self,ad):\n",
    "        isim, soyisim = ad.split(' ')\n",
    "        self.isim = isim\n",
    "        self.soyisim = soyisim\n",
    "        \n",
    "    \n",
    "    @tam_isim.deleter\n",
    "    def tam_isim(self):\n",
    "        print('Degiskenler silindi...')\n",
    "        self.isim = None\n",
    "        self.soyisim = None\n",
    "        \n",
    "        \n",
    "per_1 = Personel('Muhammed', 'Yilmaz', 10000)\n",
    "\n",
    "per_1.tam_isim = 'Murat Yilmaz'\n",
    "print(per_1.isim)\n",
    "print(per_1.eposta)\n",
    "\n",
    "del per_1.tam_isim\n",
    "print(per_1.isim)"
   ]
  },
  {
   "cell_type": "markdown",
   "id": "bef9761f-0937-45a5-8eff-3e11bc5c0b42",
   "metadata": {},
   "source": [
    "#### <font color=gold>**Encapsulation**</font> <font color=gray>**Kapsulleme**</font>"
   ]
  },
  {
   "cell_type": "code",
   "execution_count": 207,
   "id": "76392046-e23b-4d64-a082-cfd9fffe28f9",
   "metadata": {},
   "outputs": [],
   "source": [
    "# kapsulleme icin metod basina iki tane alt cizgi eklenir. \n",
    "# self.maas --> self.__maas gibi"
   ]
  },
  {
   "cell_type": "code",
   "execution_count": 194,
   "id": "5eddc5f1-76d9-42a1-8ead-86c946eebb8b",
   "metadata": {},
   "outputs": [
    {
     "name": "stdout",
     "output_type": "stream",
     "text": [
      "Muhammed\n",
      "10000\n",
      "1.05\n",
      "Yeni Maas: 12000\n"
     ]
    }
   ],
   "source": [
    "class Personel():\n",
    "\n",
    "    \n",
    "    def __init__(self,isim,soyisim,maas):\n",
    "        self.isim = isim.title()\n",
    "        self.soyisim = soyisim.title()\n",
    "        self.maas = maas\n",
    "        self.zam_orani = 1.05\n",
    "    \n",
    "    \n",
    "    def zamUygula(self):\n",
    "        self.maas = int(self.maas * self.zam_orani)\n",
    "\n",
    "        \n",
    "per_1 = Personel('Muhammed', 'Yilmaz', 10000)\n",
    "\n",
    "print(per_1.isim)\n",
    "print(per_1.maas)\n",
    "print(per_1.zam_orani)\n",
    "\n",
    "per_1.zam_orani = 1.2\n",
    "per_1.zamUygula()\n",
    "print('Yeni Maas:',per_1.maas)"
   ]
  },
  {
   "cell_type": "code",
   "execution_count": null,
   "id": "e2ae8be7-78bb-43eb-8e0f-e5d082ef140a",
   "metadata": {},
   "outputs": [],
   "source": [
    "'''\n",
    "Yukarida zam oranina disaridan mudahale sozkonusudur.\n",
    "Bunu engellemek icin kapsülleme kullanilir.\n",
    "'''"
   ]
  },
  {
   "cell_type": "code",
   "execution_count": 197,
   "id": "7fb42304-00fc-458d-881f-1c2d26e8c832",
   "metadata": {},
   "outputs": [
    {
     "name": "stdout",
     "output_type": "stream",
     "text": [
      "{'isim': 'Muhammed', 'soyisim': 'Yilmaz', 'maas': 10000, 'zam_orani': 1.05}\n"
     ]
    }
   ],
   "source": [
    "class Personel():\n",
    "\n",
    "    \n",
    "    def __init__(self,isim,soyisim,maas):\n",
    "        self.isim = isim.title()\n",
    "        self.soyisim = soyisim.title()\n",
    "        self.maas = maas\n",
    "        self.zam_orani = 1.05\n",
    "    \n",
    "    \n",
    "    def zamUygula(self):\n",
    "        self.maas = int(self.maas * self.zam_orani)\n",
    "\n",
    "        \n",
    "per_1 = Personel('Muhammed', 'Yilmaz', 10000)\n",
    "\n",
    "print(per_1.__dict__)"
   ]
  },
  {
   "cell_type": "code",
   "execution_count": 198,
   "id": "aeffae3d-5656-4424-8e24-0d6ebdcaefec",
   "metadata": {},
   "outputs": [],
   "source": [
    "# Yukarida dict ile zam orani da herkes tarafindan gorulmektedir."
   ]
  },
  {
   "cell_type": "code",
   "execution_count": 202,
   "id": "6019cc65-3052-4a60-93cd-187b93056e85",
   "metadata": {},
   "outputs": [
    {
     "ename": "AttributeError",
     "evalue": "'Personel' object has no attribute 'zam_orani'",
     "output_type": "error",
     "traceback": [
      "\u001b[1;31m---------------------------------------------------------------------------\u001b[0m",
      "\u001b[1;31mAttributeError\u001b[0m                            Traceback (most recent call last)",
      "\u001b[1;32m~\\AppData\\Local\\Temp\\ipykernel_3528\\2634262201.py\u001b[0m in \u001b[0;36m<module>\u001b[1;34m\u001b[0m\n\u001b[0;32m     15\u001b[0m \u001b[0mper_1\u001b[0m \u001b[1;33m=\u001b[0m \u001b[0mPersonel\u001b[0m\u001b[1;33m(\u001b[0m\u001b[1;34m'Muhammed'\u001b[0m\u001b[1;33m,\u001b[0m \u001b[1;34m'Yilmaz'\u001b[0m\u001b[1;33m,\u001b[0m \u001b[1;36m10000\u001b[0m\u001b[1;33m)\u001b[0m\u001b[1;33m\u001b[0m\u001b[1;33m\u001b[0m\u001b[0m\n\u001b[0;32m     16\u001b[0m \u001b[1;33m\u001b[0m\u001b[0m\n\u001b[1;32m---> 17\u001b[1;33m \u001b[0mprint\u001b[0m\u001b[1;33m(\u001b[0m\u001b[0mper_1\u001b[0m\u001b[1;33m.\u001b[0m\u001b[0mzam_orani\u001b[0m\u001b[1;33m)\u001b[0m\u001b[1;33m\u001b[0m\u001b[1;33m\u001b[0m\u001b[0m\n\u001b[0m",
      "\u001b[1;31mAttributeError\u001b[0m: 'Personel' object has no attribute 'zam_orani'"
     ]
    }
   ],
   "source": [
    "class Personel():\n",
    "\n",
    "    \n",
    "    def __init__(self,isim,soyisim,maas):\n",
    "        self.isim = isim.title()\n",
    "        self.soyisim = soyisim.title()\n",
    "        self.maas = maas\n",
    "        self.__zam_orani = 1.05\n",
    "    \n",
    "    \n",
    "    def zamUygula(self):\n",
    "        self.maas = int(self.maas * self.__zam_orani)\n",
    "\n",
    "        \n",
    "per_1 = Personel('Muhammed', 'Yilmaz', 10000)\n",
    "\n",
    "print(per_1.zam_orani)"
   ]
  },
  {
   "cell_type": "code",
   "execution_count": 203,
   "id": "e1b064e0-9540-4dfe-b69f-406b75902448",
   "metadata": {},
   "outputs": [
    {
     "name": "stdout",
     "output_type": "stream",
     "text": [
      "10000\n",
      "Yeni maas miktari: 10500\n"
     ]
    }
   ],
   "source": [
    "# Hata verip yok dese de aslinda gizlenmistir.\n",
    "\n",
    "print(per_1.maas)\n",
    "per_1.zamUygula()\n",
    "print('Yeni maas miktari:',per_1.maas)"
   ]
  },
  {
   "cell_type": "code",
   "execution_count": 205,
   "id": "feef1370-b713-44aa-af37-d3cd58b5aca6",
   "metadata": {},
   "outputs": [
    {
     "name": "stdout",
     "output_type": "stream",
     "text": [
      "1.05\n"
     ]
    }
   ],
   "source": [
    "# Eger kapsullenenleri goruntulemek istersek:\n",
    "\n",
    "class Personel():\n",
    "\n",
    "    \n",
    "    def __init__(self,isim,soyisim,maas):\n",
    "        self.isim = isim.title()\n",
    "        self.soyisim = soyisim.title()\n",
    "        self.maas = maas\n",
    "        self.__zam_orani = 1.05\n",
    "        \n",
    "    \n",
    "    def getZamOrani(self):\n",
    "        return self.__zam_orani\n",
    "    \n",
    "    \n",
    "    def zamUygula(self):\n",
    "        self.maas = int(self.maas * self.__zam_orani)\n",
    "\n",
    "        \n",
    "per_1 = Personel('Muhammed', 'Yilmaz', 10000)\n",
    "\n",
    "print(per_1.getZamOrani())"
   ]
  },
  {
   "cell_type": "code",
   "execution_count": 206,
   "id": "84d21947-122c-46e4-a5c6-e05bfd7307cf",
   "metadata": {},
   "outputs": [
    {
     "name": "stdout",
     "output_type": "stream",
     "text": [
      "1.05\n",
      "1.2\n"
     ]
    }
   ],
   "source": [
    "# set etmek istersek:\n",
    "\n",
    "class Personel():\n",
    "\n",
    "    \n",
    "    def __init__(self,isim,soyisim,maas):\n",
    "        self.isim = isim.title()\n",
    "        self.soyisim = soyisim.title()\n",
    "        self.maas = maas\n",
    "        self.__zam_orani = 1.05\n",
    "        \n",
    "    \n",
    "    def getZamOrani(self):\n",
    "        return self.__zam_orani\n",
    "    \n",
    "    \n",
    "    def setZamOrani(self,oran):\n",
    "        self.__zam_orani = oran\n",
    "    \n",
    "    \n",
    "    def zamUygula(self):\n",
    "        self.maas = int(self.maas * self.__zam_orani)\n",
    "\n",
    "        \n",
    "per_1 = Personel('Muhammed', 'Yilmaz', 10000)\n",
    "\n",
    "print(per_1.getZamOrani())\n",
    "\n",
    "per_1.setZamOrani(oran=1.2)\n",
    "print(per_1.getZamOrani())"
   ]
  }
 ],
 "metadata": {
  "kernelspec": {
   "display_name": "Python 3 (ipykernel)",
   "language": "python",
   "name": "python3"
  },
  "language_info": {
   "codemirror_mode": {
    "name": "ipython",
    "version": 3
   },
   "file_extension": ".py",
   "mimetype": "text/x-python",
   "name": "python",
   "nbconvert_exporter": "python",
   "pygments_lexer": "ipython3",
   "version": "3.9.15"
  }
 },
 "nbformat": 4,
 "nbformat_minor": 5
}
