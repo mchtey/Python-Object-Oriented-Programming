{
 "cells": [
  {
   "cell_type": "markdown",
   "id": "8f5ce878-cc18-43d6-b563-92fd5c3827c6",
   "metadata": {},
   "source": [
    "# <font color=orange>**Nesne Tabanli Programlamaya Giris**</font>\n",
    "## <font color=gray>**(Object Oriented Programming)**</font>"
   ]
  },
  {
   "cell_type": "markdown",
   "id": "696b403b-95b6-4151-8704-0a15d5724265",
   "metadata": {},
   "source": [
    "### <font color=gold>**1. Classes**</font> <font color=gray>**(Siniflar)**</font>"
   ]
  },
  {
   "cell_type": "code",
   "execution_count": 2,
   "id": "dd9a6a6c-a71b-4777-a43d-19e24da9bd01",
   "metadata": {},
   "outputs": [],
   "source": [
    "employee1_name = 'messi'\n",
    "employee1_age = 33\n",
    "employee1_adress = 'adresdaersdfsdfsfsdf'\n",
    "\n",
    "#binlerce veri icin bu sekilde girisler sorunludur.\n",
    "#bunu engellemek icin clas'lar kullanilir."
   ]
  },
  {
   "cell_type": "code",
   "execution_count": 3,
   "id": "511d3e5c-1691-4415-ab4c-51a27c8b01b2",
   "metadata": {},
   "outputs": [],
   "source": [
    "#class tanimlama:\n",
    "class Employee:\n",
    "    #attributes = age, adress, name\n",
    "    # behaviour = pass verme\n",
    "    pass\n",
    "\n",
    "#class calistirma:\n",
    "employee1 = Employee()"
   ]
  },
  {
   "cell_type": "markdown",
   "id": "c3c31c94-46ae-4039-b5d7-6376017ced1f",
   "metadata": {},
   "source": [
    "### <font color=gold>**2. Attributes**</font> <font color=gray>**(Nitelikler)**</font>"
   ]
  },
  {
   "cell_type": "code",
   "execution_count": 4,
   "id": "9b9c3efa-001b-4e68-84c9-daf34d55ccf0",
   "metadata": {},
   "outputs": [],
   "source": [
    "class Footballer:\n",
    "    football_club = 'barcelona'\n",
    "    age = 30"
   ]
  },
  {
   "cell_type": "code",
   "execution_count": 5,
   "id": "23d924b4-3c15-472e-83c5-28c9f81518f3",
   "metadata": {},
   "outputs": [
    {
     "name": "stdout",
     "output_type": "stream",
     "text": [
      "<__main__.Footballer object at 0x00000271478FC9D0>\n"
     ]
    }
   ],
   "source": [
    "f1 = Footballer()\n",
    "print(f1)"
   ]
  },
  {
   "cell_type": "code",
   "execution_count": 13,
   "id": "e3662f25-e8af-4010-b82e-a278532a7e23",
   "metadata": {},
   "outputs": [],
   "source": [
    "#Yukaridaki cikti bize f1'in Footballer clas'ina ait old. gosteriyor."
   ]
  },
  {
   "cell_type": "code",
   "execution_count": 12,
   "id": "d107b170-4da9-48eb-ac6e-b442dbfcfb09",
   "metadata": {},
   "outputs": [
    {
     "name": "stdout",
     "output_type": "stream",
     "text": [
      "Age: 30\n",
      "------------------------\n",
      "Football Club: barcelona\n"
     ]
    }
   ],
   "source": [
    "print('Age:',f1.age)\n",
    "print('------------------------')\n",
    "print('Football Club:',f1.football_club)"
   ]
  },
  {
   "cell_type": "code",
   "execution_count": 14,
   "id": "8b40fcd9-d8e3-484b-b8c8-6771c4e3f324",
   "metadata": {},
   "outputs": [
    {
     "name": "stdout",
     "output_type": "stream",
     "text": [
      "SanliurfaSpor\n"
     ]
    }
   ],
   "source": [
    "#clas'a ait bir ozelligi degistirmek istersek:\n",
    "f1.football_club = 'SanliurfaSpor'\n",
    "print(f1.football_club)"
   ]
  },
  {
   "cell_type": "markdown",
   "id": "62421750-2481-4eb6-83be-570d0f62c305",
   "metadata": {},
   "source": [
    "### <font color=gold>**3. Methods**</font> <font color=gray>**(Metotlar)**</font>"
   ]
  },
  {
   "cell_type": "code",
   "execution_count": 20,
   "id": "3fb2e059-2fc2-451b-8c13-0e757991401c",
   "metadata": {},
   "outputs": [
    {
     "data": {
      "text/plain": [
       "<bound method Square.area of <__main__.Square object at 0x0000027147B9D1F0>>"
      ]
     },
     "execution_count": 20,
     "metadata": {},
     "output_type": "execute_result"
    }
   ],
   "source": [
    "#clas'a karenin alanini bulan metot yazilmasi:\n",
    "class Square(object):\n",
    "    edge = 5 #meter\n",
    "    def area():\n",
    "        area = edge*edge\n",
    "s1 = Square()\n",
    "s1.area"
   ]
  },
  {
   "cell_type": "code",
   "execution_count": 32,
   "id": "e0edb3bf-761d-4ea3-95ba-6e41e1e64e70",
   "metadata": {},
   "outputs": [
    {
     "name": "stdout",
     "output_type": "stream",
     "text": [
      "Area:  25\n"
     ]
    }
   ],
   "source": [
    "#Yukarida edge kullanilamadigi goruluyor. Bunu kullanabilmek icin: self kullanilir\n",
    "#clas'a karenin alanini bulan metot yazilmasi:\n",
    "class Square(object):\n",
    "    edge = 5 #meter\n",
    "    def area(self):\n",
    "        area = self.edge*self.edge\n",
    "        print('Area: ',area)\n",
    "s1 = Square()\n",
    "s1.area()"
   ]
  },
  {
   "cell_type": "code",
   "execution_count": 36,
   "id": "263ea7c6-dfca-4a7b-894d-0ca874e3c6d4",
   "metadata": {},
   "outputs": [
    {
     "name": "stdout",
     "output_type": "stream",
     "text": [
      "Area:  49\n"
     ]
    }
   ],
   "source": [
    "#yeni bir kenar girildiginde guncellenmis hal alir\n",
    "class Square(object):\n",
    "    edge = 5\n",
    "    area = 0\n",
    "    def areas(self):\n",
    "        self.area = self.edge*self.edge\n",
    "        print('Area: ',self.area)\n",
    "s1 = Square()\n",
    "s1.edge = 7\n",
    "s1.areas()"
   ]
  },
  {
   "cell_type": "markdown",
   "id": "a366fb11-0796-49b1-ab09-14db99423710",
   "metadata": {},
   "source": [
    "### <font color=gold>**4. Methods vs Functions**</font> <font color=gray>**(Metotlar ve Fonksiyonlar)**</font>"
   ]
  },
  {
   "cell_type": "code",
   "execution_count": 37,
   "id": "d38eea2d-02c2-4b7a-98e9-0cfd9f1487dd",
   "metadata": {},
   "outputs": [
    {
     "name": "stdout",
     "output_type": "stream",
     "text": [
      "0.025\n"
     ]
    }
   ],
   "source": [
    "class Emp(object):\n",
    "    age = 25\n",
    "    salary = 1000\n",
    "    \n",
    "    def ageSalaryRatio(self):\n",
    "        print(self.age /self.salary)\n",
    "        \n",
    "e1 = Emp()\n",
    "e1.ageSalaryRatio()"
   ]
  },
  {
   "cell_type": "code",
   "execution_count": 39,
   "id": "f510d99a-c8d3-4f41-9f5b-0ac2dae5e2d0",
   "metadata": {},
   "outputs": [
    {
     "name": "stdout",
     "output_type": "stream",
     "text": [
      "function:  0.01\n"
     ]
    }
   ],
   "source": [
    "#Fonksiyon kullanimi:\n",
    "def ageSalaryRatio(age,salary):\n",
    "    a = age/salary\n",
    "    print('function: ',a)\n",
    "    \n",
    "ageSalaryRatio(30,3000)"
   ]
  },
  {
   "cell_type": "code",
   "execution_count": 46,
   "id": "4043bfea-6021-4e17-867b-35dbb816b0f8",
   "metadata": {},
   "outputs": [
    {
     "name": "stdout",
     "output_type": "stream",
     "text": [
      "78.5\n",
      "None\n"
     ]
    }
   ],
   "source": [
    "#Fonksiyonlar:\n",
    "pi = 3.14\n",
    "r = 5\n",
    "\n",
    "def findArea(x,y):\n",
    "    area = x*y**2\n",
    "    print(area)\n",
    "    \n",
    "result1 = findArea(pi,r)\n",
    "print(result1)"
   ]
  },
  {
   "cell_type": "code",
   "execution_count": 48,
   "id": "392a9b6a-e69e-483a-9dc3-12221f2f5b8d",
   "metadata": {},
   "outputs": [],
   "source": [
    "#Yukarida goruldugu uzere result1 degeri bos cikar. Bunu engellemek icin Return"
   ]
  },
  {
   "cell_type": "code",
   "execution_count": 52,
   "id": "535d8956-0e1b-4f25-99cf-4bb86c51354a",
   "metadata": {},
   "outputs": [
    {
     "name": "stdout",
     "output_type": "stream",
     "text": [
      "78.5\n"
     ]
    }
   ],
   "source": [
    "#Fonksiyonlar:\n",
    "pi = 3.14\n",
    "r = 5\n",
    "\n",
    "def findArea(x,y):\n",
    "    area = x*y**2\n",
    "    #print(area)\n",
    "    return area #ciktiyi kullanma icin dondurme\n",
    "    \n",
    "result1 = findArea(pi,r)\n",
    "print(result1)"
   ]
  },
  {
   "cell_type": "code",
   "execution_count": 53,
   "id": "f69f9ffc-9af0-45b4-be34-1a99c2089279",
   "metadata": {},
   "outputs": [
    {
     "name": "stdout",
     "output_type": "stream",
     "text": [
      "392.5\n"
     ]
    }
   ],
   "source": [
    "result1 = findArea(pi,r)\n",
    "result2 = findArea(pi,10)\n",
    "\n",
    "print(result1+result2)"
   ]
  },
  {
   "cell_type": "markdown",
   "id": "3b2dfbd6-be1d-4dff-a6ef-b0b4cb3e2259",
   "metadata": {},
   "source": [
    "### <font color=gold>**5. Initializer or Constructor**</font>"
   ]
  },
  {
   "cell_type": "code",
   "execution_count": 54,
   "id": "234b4f33-e985-44e0-aaa9-20093506617c",
   "metadata": {},
   "outputs": [],
   "source": [
    "class Animal(object):\n",
    "    name = 'dog'\n",
    "    age = 2\n",
    "    \n",
    "    def getAge(self):\n",
    "        return self.age"
   ]
  },
  {
   "cell_type": "code",
   "execution_count": 57,
   "id": "e277c10d-3ea6-4cb2-abce-ef6bad79b50e",
   "metadata": {},
   "outputs": [
    {
     "name": "stdout",
     "output_type": "stream",
     "text": [
      "Animal Age: 2\n"
     ]
    }
   ],
   "source": [
    "a1 = Animal()\n",
    "a1_age =a1.getAge()\n",
    "print('Animal Age:',a1_age)"
   ]
  },
  {
   "cell_type": "code",
   "execution_count": 61,
   "id": "f25bbcd9-6846-4674-aa02-75b871feb98f",
   "metadata": {},
   "outputs": [
    {
     "name": "stdout",
     "output_type": "stream",
     "text": [
      "Name: dog , Age: 2\n"
     ]
    }
   ],
   "source": [
    "#Bu listeye veri eklemek istersek:\n",
    "\n",
    "class Animal(object):\n",
    "    \n",
    "    def __init__(self,a,b):\n",
    "        self.name = a\n",
    "        self.age = b\n",
    "    \n",
    "a1 = Animal('dog',2)\n",
    "print(f'Name: {a1.name} , Age: {a1.age}')"
   ]
  },
  {
   "cell_type": "code",
   "execution_count": 62,
   "id": "11f7b499-1ef1-471d-90db-52a20e357975",
   "metadata": {},
   "outputs": [],
   "source": [
    "a1 = Animal('dog',2)\n",
    "a2 = Animal('cat',4)\n",
    "a3 = Animal('bird',6)"
   ]
  },
  {
   "cell_type": "code",
   "execution_count": 63,
   "id": "cad3ca45-8cc9-4108-8060-1bd8e90de8b0",
   "metadata": {},
   "outputs": [
    {
     "name": "stdout",
     "output_type": "stream",
     "text": [
      "2 dog\n",
      "4 cat\n",
      "6 bird\n"
     ]
    }
   ],
   "source": [
    "print(a1.age,a1.name)\n",
    "print(a2.age,a2.name)\n",
    "print(a3.age,a3.name)"
   ]
  },
  {
   "cell_type": "markdown",
   "id": "33592e56-b548-4161-a11b-9f7dbb72b306",
   "metadata": {},
   "source": [
    "### <font color=gold>**6. Calculator Project**</font>"
   ]
  },
  {
   "cell_type": "code",
   "execution_count": 14,
   "id": "6c57acc6-874c-4506-9a72-54fc3f840205",
   "metadata": {},
   "outputs": [],
   "source": [
    "class Calc(object):\n",
    "    'calculator'\n",
    "    def __init__(self,a,b):\n",
    "        'initialize values'\n",
    "        #attributes\n",
    "        self.value1 = a\n",
    "        self.value2 = b\n",
    "        \n",
    "    def add(self):\n",
    "        'addition a+b = result -> return result'\n",
    "        return self.value1+self.value2\n",
    "    \n",
    "    def multiply(self):\n",
    "        'multiplication a*b = result -> return result'\n",
    "        return self.value1*self.value2\n",
    "   \n",
    "    def division(self):\n",
    "        return self.value1/self.value2"
   ]
  },
  {
   "cell_type": "code",
   "execution_count": 23,
   "id": "b64ba7ed-d913-49d8-baa3-2767654f3367",
   "metadata": {},
   "outputs": [
    {
     "name": "stdout",
     "output_type": "stream",
     "text": [
      "Add: 8 , Multiply: 15 , Division: 1.6667\n"
     ]
    }
   ],
   "source": [
    "v1 = 5\n",
    "v2 = 3\n",
    "c1 = Calc(v1,v2)\n",
    "add_result = c1.add()\n",
    "multiply_result = c1.multiply()\n",
    "division_result = c1.division()\n",
    "\n",
    "print(\"Add: {} , Multiply: {} , Division: {}\".format(add_result,multiply_result,round(division_result,4)))"
   ]
  },
  {
   "cell_type": "code",
   "execution_count": 24,
   "id": "29ddca3b-da52-4f9e-bd3d-8014aedb448d",
   "metadata": {},
   "outputs": [
    {
     "name": "stdout",
     "output_type": "stream",
     "text": [
      "Choose Add(1), Multiply(2), Division(3)\n"
     ]
    },
    {
     "name": "stdin",
     "output_type": "stream",
     "text": [
      "Select 1 or 2 or 3:\n",
      " 5\n",
      "First Value: 55\n",
      "Second Value: 55\n"
     ]
    },
    {
     "name": "stdout",
     "output_type": "stream",
     "text": [
      "Error there is no proper selection\n"
     ]
    }
   ],
   "source": [
    "print(\"Choose Add(1), Multiply(2), Division(3)\")\n",
    "selection = input('Select 1 or 2 or 3:\\n')\n",
    "v1 = int(input('First Value:'))\n",
    "v2 = int(input('Second Value:'))\n",
    "\n",
    "c1 = Calc(v1,v2)\n",
    "if selection == '1':\n",
    "    add_result = c1.add()\n",
    "    print('Add:',add_result)\n",
    "elif selection == '2':\n",
    "    multiply_result = c1.multiply() \n",
    "    print('Multiply:',multiply_result)\n",
    "elif selection == '3':\n",
    "    division_result = c1.division()\n",
    "    print('Division:',division_result)\n",
    "else:\n",
    "    print('Error there is no proper selection')"
   ]
  },
  {
   "cell_type": "markdown",
   "id": "e5793e04-cb61-4a70-8ba5-a0f09df307eb",
   "metadata": {},
   "source": [
    "### <font color=gold>**7. Encapsulation**</font> <font color=gray>**(Kapsülleme)**</font>"
   ]
  },
  {
   "cell_type": "markdown",
   "id": "692c7d6f-454a-4b76-bd4a-71ad65f9bb14",
   "metadata": {},
   "source": [
    "*Herhangi bir nesnenin metotlarini, verilerini ve degiskenlerini diger nesnelerden saklayarak ve bunlara erisimi sinirlandirarak yanlis kullanimdan koruma konseptidir.*"
   ]
  },
  {
   "cell_type": "code",
   "execution_count": 25,
   "id": "208ea002-0123-4fb9-9558-56f2c6c9ef92",
   "metadata": {},
   "outputs": [],
   "source": [
    "class BankAccount(object):\n",
    "    \n",
    "    def __init__(self,name,money,address):\n",
    "        self.name = name\n",
    "        self.money = money\n",
    "        self.address = address\n",
    "        \n",
    "p1 = BankAccount('Messi',1000,'Barcelona')\n",
    "p2 = BankAccount('Neymar',2000,'Paris')"
   ]
  },
  {
   "cell_type": "code",
   "execution_count": 26,
   "id": "c89dbc74-e687-48ca-9611-36f152f15a43",
   "metadata": {},
   "outputs": [
    {
     "name": "stdout",
     "output_type": "stream",
     "text": [
      "3000\n",
      "0\n"
     ]
    }
   ],
   "source": [
    "#Messi isimli musterinin parasini Neymar'a ekleme\n",
    "p2.money = p2.money+p1.money #2000+1000\n",
    "p1.money = 0\n",
    "\n",
    "print(p2.money)\n",
    "print(p1.money)"
   ]
  },
  {
   "cell_type": "code",
   "execution_count": 36,
   "id": "c2b55d2b-978a-4c72-9a04-ac05509b89b6",
   "metadata": {},
   "outputs": [],
   "source": [
    "#Yukaridaki gibi disaridan mudahaleyi engellemek icin kapsulleme kullanilir.\n",
    "class BankAccount(object):\n",
    "    \n",
    "    def __init__(self,name,money,address):\n",
    "        self.name = name\n",
    "        self.__money = money #private yapma icin: _ _ eklenir\n",
    "        #Gizlenen deger erisilemez uzerinde degisim yapilamaz\n",
    "        self.address = address\n",
    "    #get and set  : global  \n",
    "    def getMoney(self):\n",
    "        return self.__money\n",
    "        \n",
    "    def setMoney(self,amount):\n",
    "        self.__money = amount\n",
    "    \n",
    "    \n",
    "p1 = BankAccount('Messi',1000,'Barcelona')\n",
    "p2 = BankAccount('Neymar',2000,'Paris')"
   ]
  },
  {
   "cell_type": "code",
   "execution_count": 37,
   "id": "73571160-5d6c-472f-b32c-0e3de0871d8d",
   "metadata": {},
   "outputs": [],
   "source": [
    "#Peki kisi para yatirmak/cekmek isterse:\n",
    "#get ve set adli iki farkli metot kullanilir."
   ]
  },
  {
   "cell_type": "code",
   "execution_count": 38,
   "id": "62cabc09-9343-4516-a0a2-02562391f09b",
   "metadata": {},
   "outputs": [
    {
     "name": "stdout",
     "output_type": "stream",
     "text": [
      "get method: 1000\n"
     ]
    }
   ],
   "source": [
    "print('get method:',p1.getMoney())"
   ]
  },
  {
   "cell_type": "code",
   "execution_count": 39,
   "id": "e4efc343-80c9-4230-9eb0-a6a979559be7",
   "metadata": {},
   "outputs": [
    {
     "name": "stdout",
     "output_type": "stream",
     "text": [
      "After set method: 5000\n"
     ]
    }
   ],
   "source": [
    "p1.setMoney(5000)\n",
    "print('After set method:',p1.getMoney())"
   ]
  },
  {
   "cell_type": "code",
   "execution_count": 40,
   "id": "60ed8bcb-2774-4f4c-aa37-6286ae015789",
   "metadata": {},
   "outputs": [],
   "source": [
    "#metot private etmek istersek:\n",
    "\n",
    "#Yukaridaki gibi disaridan mudahaleyi engellemek icin kapsulleme kullanilir.\n",
    "class BankAccount(object):\n",
    "    \n",
    "    def __init__(self,name,money,address):\n",
    "        self.name = name\n",
    "        self.__money = money #private yapma icin: _ _ eklenir\n",
    "        #Gizlenen deger erisilemez uzerinde degisim yapilamaz\n",
    "        self.address = address\n",
    "    #get and set  : global  \n",
    "    def getMoney(self):\n",
    "        return self.__money\n",
    "        \n",
    "    def setMoney(self,amount):\n",
    "        self.__money = amount\n",
    "    #private etme    \n",
    "    def __increase(self): #disaridan erisilemez hale gelir.\n",
    "        self.__money = self.__money+500 \n",
    "    \n",
    "    \n",
    "p1 = BankAccount('Messi',1000,'Barcelona')\n",
    "p2 = BankAccount('Neymar',2000,'Paris')"
   ]
  },
  {
   "cell_type": "code",
   "execution_count": 42,
   "id": "ff8f27c9-8bbf-4064-bca2-213ca5424199",
   "metadata": {},
   "outputs": [
    {
     "ename": "AttributeError",
     "evalue": "'BankAccount' object has no attribute '__increase'",
     "output_type": "error",
     "traceback": [
      "\u001b[1;31m---------------------------------------------------------------------------\u001b[0m",
      "\u001b[1;31mAttributeError\u001b[0m                            Traceback (most recent call last)",
      "\u001b[1;32m~\\AppData\\Local\\Temp\\ipykernel_10108\\445497373.py\u001b[0m in \u001b[0;36m<module>\u001b[1;34m\u001b[0m\n\u001b[1;32m----> 1\u001b[1;33m \u001b[0mp1\u001b[0m\u001b[1;33m.\u001b[0m\u001b[0m__increase\u001b[0m\u001b[1;33m(\u001b[0m\u001b[1;33m)\u001b[0m \u001b[1;31m#gizlendiginden hata verir cagrildiginda\u001b[0m\u001b[1;33m\u001b[0m\u001b[1;33m\u001b[0m\u001b[0m\n\u001b[0m",
      "\u001b[1;31mAttributeError\u001b[0m: 'BankAccount' object has no attribute '__increase'"
     ]
    }
   ],
   "source": [
    "p1.__increase() #gizlendiginden hata verir cagrildiginda"
   ]
  },
  {
   "cell_type": "markdown",
   "id": "752b653a-7693-4a2b-8241-c788f5e291cc",
   "metadata": {},
   "source": [
    "### <font color=gold>**8. Inheritance**</font> <font color=gray>**(Miras)**</font>"
   ]
  },
  {
   "cell_type": "code",
   "execution_count": 49,
   "id": "9c8fcac3-217d-4f48-a7d2-6f17eb80adb3",
   "metadata": {},
   "outputs": [],
   "source": [
    "#parent\n",
    "class Animal:\n",
    "    def __init__(self):\n",
    "        print('Animal is created')\n",
    "        \n",
    "    def toString(self):\n",
    "        print('Animal')\n",
    "    \n",
    "    def walk(self):\n",
    "        print('Animal walk')\n",
    "        \n",
    "#child\n",
    "class Monkey(Animal):\n",
    "    def __init__(self):\n",
    "        super().__init__() #parent sinifini child sinifina aktarmayi saglar\n",
    "        #ustteki satir Animal class'inin initializer'ini kullanilabilir hale gelir.\n",
    "        print('Monkey is created')\n",
    "        \n",
    "    def toString(self):\n",
    "        print('Monkey')\n",
    "        \n",
    "    def climb(self):\n",
    "        print('Monkey can climb')\n",
    "        \n",
    "class Bird(Animal):\n",
    "    def __init__(self):\n",
    "        super().__init__()\n",
    "        print('Bird is created')\n",
    "        \n",
    "    def fly(self):\n",
    "        print('Fly')"
   ]
  },
  {
   "cell_type": "code",
   "execution_count": 51,
   "id": "283102b2-2697-4897-9b96-cd054f48ba96",
   "metadata": {},
   "outputs": [
    {
     "name": "stdout",
     "output_type": "stream",
     "text": [
      "Animal is created\n",
      "Monkey is created\n",
      "------------------\n",
      "Animal is created\n",
      "Bird is created\n"
     ]
    }
   ],
   "source": [
    "m1 = Monkey()\n",
    "print('------------------')\n",
    "b1 = Bird()"
   ]
  },
  {
   "cell_type": "code",
   "execution_count": 45,
   "id": "1d66e8a0-ea32-4bec-804d-4f31a7ec58d0",
   "metadata": {},
   "outputs": [],
   "source": [
    "#Yukaridaki cikti da Animal is created yazmasinin sebebi super().__init__() "
   ]
  },
  {
   "cell_type": "code",
   "execution_count": 55,
   "id": "dce2621b-0597-4d65-87f5-b46d4130d4dd",
   "metadata": {},
   "outputs": [
    {
     "name": "stdout",
     "output_type": "stream",
     "text": [
      "Monkey\n",
      "Monkey can climb\n",
      "----------------\n",
      "Animal walk\n",
      "Fly\n"
     ]
    }
   ],
   "source": [
    "m1.toString()\n",
    "m1.climb()\n",
    "print('----------------')\n",
    "b1.walk()\n",
    "b1.fly()"
   ]
  },
  {
   "cell_type": "markdown",
   "id": "907ea59d-b691-4703-9ddd-cbb3c83ba8bf",
   "metadata": {},
   "source": [
    "#### **Inheritance Project**"
   ]
  },
  {
   "cell_type": "code",
   "execution_count": 67,
   "id": "639767fa-7a1f-4933-b692-9a79d8366bb3",
   "metadata": {},
   "outputs": [],
   "source": [
    "class Website:\n",
    "    \"parent\"\n",
    "    def __init__(self,name,surname):\n",
    "        self.name = name\n",
    "        self.surname = surname\n",
    "        \n",
    "    def logininfo(self):\n",
    "        print(self.name + ' ' + self.surname)\n",
    "        \n",
    "class Website1(Website):\n",
    "    'child'\n",
    "    def __init__(self,name,surname,ids):\n",
    "        Website.__init__(self,name,surname)\n",
    "        self.ids = ids\n",
    "        \n",
    "    def login(self):\n",
    "        print(self.name + ' ' + self.surname + ' ' + self.ids)"
   ]
  },
  {
   "cell_type": "code",
   "execution_count": 68,
   "id": "2698388c-8c72-4404-9480-52aac0ce3ab8",
   "metadata": {},
   "outputs": [],
   "source": [
    "p1 = Website('name','surname')"
   ]
  },
  {
   "cell_type": "code",
   "execution_count": 69,
   "id": "80c648b7-75f5-4bbe-b793-816622362074",
   "metadata": {},
   "outputs": [],
   "source": [
    "p2 = Website1('name','surname','123')"
   ]
  },
  {
   "cell_type": "code",
   "execution_count": 70,
   "id": "a6be2915-e5a1-4a1f-b5ab-7f07fbdeb63f",
   "metadata": {},
   "outputs": [
    {
     "name": "stdout",
     "output_type": "stream",
     "text": [
      "name surname 123\n"
     ]
    }
   ],
   "source": [
    "p2.login()"
   ]
  },
  {
   "cell_type": "code",
   "execution_count": 72,
   "id": "931b336b-7e01-488c-ae29-8ec41f8cf4a3",
   "metadata": {},
   "outputs": [
    {
     "name": "stdout",
     "output_type": "stream",
     "text": [
      "name surname\n"
     ]
    }
   ],
   "source": [
    "p2.logininfo()"
   ]
  },
  {
   "cell_type": "code",
   "execution_count": 74,
   "id": "463b5652-511c-4dc2-bd4d-f71f65e780d8",
   "metadata": {},
   "outputs": [
    {
     "data": {
      "text/plain": [
       "'name'"
      ]
     },
     "execution_count": 74,
     "metadata": {},
     "output_type": "execute_result"
    }
   ],
   "source": [
    "p2.name"
   ]
  },
  {
   "cell_type": "code",
   "execution_count": 75,
   "id": "2a4b45d1-70d4-41b1-ac07-906269ae7cdd",
   "metadata": {},
   "outputs": [],
   "source": [
    "class Website:\n",
    "    \"parent\"\n",
    "    def __init__(self,name,surname):\n",
    "        self.name = name\n",
    "        self.surname = surname\n",
    "        \n",
    "    def logininfo(self):\n",
    "        print(self.name + ' ' + self.surname)\n",
    "        \n",
    "class Website1(Website):\n",
    "    'child'\n",
    "    def __init__(self,name,surname,ids):\n",
    "        Website.__init__(self,name,surname)\n",
    "        self.ids = ids\n",
    "        \n",
    "    def login(self):\n",
    "        print(self.name + ' ' + self.surname + ' ' + self.ids)\n",
    "        \n",
    "class Website2(Website):\n",
    "    \n",
    "    def __init__(self,name,surname,email):\n",
    "        Website.__init__(self,name,surname)\n",
    "        self.email = email\n",
    "    \n",
    "    def login(self):\n",
    "        print(self.name + ' ' + self.surname + ' ' + self.email)"
   ]
  },
  {
   "cell_type": "code",
   "execution_count": 76,
   "id": "8b149a55-fc21-43d3-9aa2-34b11c903631",
   "metadata": {},
   "outputs": [],
   "source": [
    "p3 = Website2('name','surname','email@')"
   ]
  },
  {
   "cell_type": "code",
   "execution_count": 78,
   "id": "00100916-837c-4c2e-b21d-526649491b8e",
   "metadata": {},
   "outputs": [
    {
     "data": {
      "text/plain": [
       "'email@'"
      ]
     },
     "execution_count": 78,
     "metadata": {},
     "output_type": "execute_result"
    }
   ],
   "source": [
    "p3.email"
   ]
  },
  {
   "cell_type": "code",
   "execution_count": 79,
   "id": "4bac19c6-2999-416f-b4e0-311a54e9dc97",
   "metadata": {},
   "outputs": [
    {
     "data": {
      "text/plain": [
       "'surname'"
      ]
     },
     "execution_count": 79,
     "metadata": {},
     "output_type": "execute_result"
    }
   ],
   "source": [
    "p3.surname"
   ]
  },
  {
   "cell_type": "code",
   "execution_count": 81,
   "id": "ef64acc8-238a-4fad-8d27-76e1d4ab6f40",
   "metadata": {},
   "outputs": [
    {
     "name": "stdout",
     "output_type": "stream",
     "text": [
      "name surname\n"
     ]
    }
   ],
   "source": [
    "p3.logininfo()"
   ]
  },
  {
   "cell_type": "markdown",
   "id": "b0a20a2e-7d24-4e64-a7d2-5081726fe4a0",
   "metadata": {},
   "source": [
    "### <font color=gold>**9. Abstract Classes**</font> <font color=gray>**(Soyut Sınıflar)**</font>"
   ]
  },
  {
   "cell_type": "markdown",
   "id": "693a248d-1c9a-438f-8dcb-d32e50894126",
   "metadata": {},
   "source": [
    "*Nesne yönelimli programlamada nesnesi yaratilamayan siniflara verilen addir.*"
   ]
  },
  {
   "cell_type": "code",
   "execution_count": 82,
   "id": "5be715e1-4e97-4b97-b5bb-d8cb0c64f0c5",
   "metadata": {},
   "outputs": [],
   "source": [
    "from abc import ABC, abstractmethod"
   ]
  },
  {
   "cell_type": "code",
   "execution_count": 88,
   "id": "c595b4b4-032d-4495-9956-01f8bc1a759e",
   "metadata": {},
   "outputs": [],
   "source": [
    "class Animal(ABC): #super class\n",
    "    @abstractmethod         # -> kullanimi zorunlu alanlar demek\n",
    "    def walk(self): pass\n",
    "    @abstractmethod\n",
    "    def run(self): pass\n",
    "\n",
    "class Bird(Animal): #sub class\n",
    "    \n",
    "    def __init__(self):\n",
    "        print('Bird')"
   ]
  },
  {
   "cell_type": "code",
   "execution_count": 89,
   "id": "664571d4-4f51-4ac9-9430-1b9609c7282b",
   "metadata": {},
   "outputs": [
    {
     "ename": "TypeError",
     "evalue": "Can't instantiate abstract class Bird with abstract methods run, walk",
     "output_type": "error",
     "traceback": [
      "\u001b[1;31m---------------------------------------------------------------------------\u001b[0m",
      "\u001b[1;31mTypeError\u001b[0m                                 Traceback (most recent call last)",
      "\u001b[1;32m~\\AppData\\Local\\Temp\\ipykernel_10108\\740477535.py\u001b[0m in \u001b[0;36m<module>\u001b[1;34m\u001b[0m\n\u001b[1;32m----> 1\u001b[1;33m \u001b[0mb1\u001b[0m \u001b[1;33m=\u001b[0m \u001b[0mBird\u001b[0m\u001b[1;33m(\u001b[0m\u001b[1;33m)\u001b[0m \u001b[1;31m#abstract alanlar kullanılmaz ise hata verir.\u001b[0m\u001b[1;33m\u001b[0m\u001b[1;33m\u001b[0m\u001b[0m\n\u001b[0m",
      "\u001b[1;31mTypeError\u001b[0m: Can't instantiate abstract class Bird with abstract methods run, walk"
     ]
    }
   ],
   "source": [
    "b1 = Bird() #abstract alanlar kullanılmaz ise hata verir."
   ]
  },
  {
   "cell_type": "code",
   "execution_count": 95,
   "id": "3b64af8b-d7a0-4b12-bb8f-c291d9a599df",
   "metadata": {},
   "outputs": [],
   "source": [
    "class Animal(ABC): #super class\n",
    "    @abstractmethod         # -> kullanimi zorunlu alanlar demek\n",
    "    def walk(self): pass\n",
    "    @abstractmethod         # -> kullanimi zorunlu alanlar demek\n",
    "    def run(self): pass\n",
    "\n",
    "class Bird(Animal): #sub class\n",
    "    \n",
    "    def __init__(self):\n",
    "        print('Bird')\n",
    "    \n",
    "    def walk(self): \n",
    "        print('walk')\n",
    "\n",
    "    def run(self):\n",
    "        print('run')"
   ]
  },
  {
   "cell_type": "code",
   "execution_count": 92,
   "id": "3572e8fd-891e-4ce6-b740-0e0689486336",
   "metadata": {},
   "outputs": [
    {
     "name": "stdout",
     "output_type": "stream",
     "text": [
      "Bird\n"
     ]
    }
   ],
   "source": [
    "b1 = Bird()"
   ]
  },
  {
   "cell_type": "code",
   "execution_count": 94,
   "id": "ee3285b6-d2b6-4ae9-875f-07f821b58056",
   "metadata": {},
   "outputs": [
    {
     "name": "stdout",
     "output_type": "stream",
     "text": [
      "run\n"
     ]
    }
   ],
   "source": [
    "b1.run()"
   ]
  },
  {
   "cell_type": "markdown",
   "id": "3120a935-422d-4b26-9088-881f210476d1",
   "metadata": {},
   "source": [
    "### <font color=gold>**10. Overriding**</font>"
   ]
  },
  {
   "cell_type": "markdown",
   "id": "aee22b27-9f00-4185-a40f-73f93a593686",
   "metadata": {},
   "source": [
    "*Geçersiz kilma olarak adlandiriliyor.*"
   ]
  },
  {
   "cell_type": "code",
   "execution_count": 97,
   "id": "c262b95b-694c-43e7-bb9a-4709e90bfdd3",
   "metadata": {},
   "outputs": [],
   "source": [
    "class Animal: #parent\n",
    "    def toString(self):\n",
    "        print('animal')\n",
    "        \n",
    "class Monkey(Animal):\n",
    "    \n",
    "    def toString(self):\n",
    "        print('monkey')"
   ]
  },
  {
   "cell_type": "code",
   "execution_count": 98,
   "id": "681aa28c-cf6f-430a-8ea5-4df2c88157e2",
   "metadata": {},
   "outputs": [],
   "source": [
    "a1 = Animal()"
   ]
  },
  {
   "cell_type": "code",
   "execution_count": 99,
   "id": "c24b54e7-45ff-4f88-bdf3-1d1b47eb81be",
   "metadata": {},
   "outputs": [
    {
     "name": "stdout",
     "output_type": "stream",
     "text": [
      "animal\n"
     ]
    }
   ],
   "source": [
    "a1.toString()"
   ]
  },
  {
   "cell_type": "code",
   "execution_count": 100,
   "id": "9944e383-26b2-42dd-adfd-0747c8fe2287",
   "metadata": {},
   "outputs": [],
   "source": [
    "m1 = Monkey()"
   ]
  },
  {
   "cell_type": "code",
   "execution_count": 102,
   "id": "428b1d9a-840a-45e3-8247-25228eebdd6e",
   "metadata": {},
   "outputs": [
    {
     "name": "stdout",
     "output_type": "stream",
     "text": [
      "monkey\n"
     ]
    }
   ],
   "source": [
    "m1.toString() #monkey calls overriding method"
   ]
  },
  {
   "cell_type": "markdown",
   "id": "8aab1c87-7752-4824-9ca4-8b1b0dac2bd2",
   "metadata": {},
   "source": [
    "*Monkey'in toString metodu Animal'in toString metodunu gecersiz kiliyor.*"
   ]
  },
  {
   "cell_type": "markdown",
   "id": "ce6d3bcd-27fe-48bd-8981-172929ef9018",
   "metadata": {},
   "source": [
    "---"
   ]
  },
  {
   "cell_type": "code",
   "execution_count": 103,
   "id": "4baf494f-4f6b-4493-b235-f24fb59d10d0",
   "metadata": {},
   "outputs": [
    {
     "name": "stdout",
     "output_type": "stream",
     "text": [
      "16  is area of square\n",
      "8  is area of rectangle\n"
     ]
    }
   ],
   "source": [
    "class Rectangle():\n",
    "\tdef __init__(self,length,breadth):\n",
    "\t\tself.length = length\n",
    "\t\tself.breadth = breadth\n",
    "\tdef getArea(self):\n",
    "\t\tprint(self.length*self.breadth,\" is area of rectangle\")\n",
    "class Square(Rectangle):\n",
    "\tdef __init__(self,side):\n",
    "\t\tself.side = side\n",
    "\t\tRectangle.__init__(self,side,side)\n",
    "\tdef getArea(self):\n",
    "\t\tprint(self.side*self.side,\" is area of square\")\n",
    "s = Square(4)\n",
    "r = Rectangle(2,4)\n",
    "s.getArea()\n",
    "r.getArea()"
   ]
  },
  {
   "cell_type": "markdown",
   "id": "93b215fe-6e8b-44c0-b360-84a55e548a4a",
   "metadata": {},
   "source": [
    "### <font color=gold>**11. Polymorphism**</font><font color=gray>**(Çok Bicimlilik)**</font>"
   ]
  },
  {
   "cell_type": "markdown",
   "id": "b60b28d9-9f87-4d92-a1f2-35b8e602d03f",
   "metadata": {},
   "source": [
    "*Her iki nesnede de aynı isimdeki metodu kullanıp farklı çıktılar elde etme işlemine Polymorphism yani Çok Biçimlilik denilmektedir.*\n",
    "\n",
    "*Program daha zarif bir tasarima sahip olur bu da güncellenmesini kolaylastirir.*"
   ]
  },
  {
   "cell_type": "code",
   "execution_count": 118,
   "id": "3064353c-7644-45cb-af15-05302a8aadd7",
   "metadata": {},
   "outputs": [],
   "source": [
    "#parent class'inda olan metodu child class'inda kullanmaya denir.\n",
    "#ayni zamanda overriding yapmis oluyoruz."
   ]
  },
  {
   "cell_type": "code",
   "execution_count": 110,
   "id": "5f867aeb-2d9a-4526-932e-cc0a2011c2f5",
   "metadata": {},
   "outputs": [],
   "source": [
    "class Employee:\n",
    "    \n",
    "    def raisee(self):\n",
    "        raise_rate = 0.1\n",
    "        result = 100+100*raise_rate\n",
    "        print('Employee: ',result)\n",
    "    \n",
    "class CompEng(Employee):\n",
    "    \n",
    "    def raisee(self):\n",
    "        raise_rate = 0.2\n",
    "        result = 100+100*raise_rate\n",
    "        print('CompEng: ',result)\n",
    "class EEE(Employee):\n",
    "    \n",
    "    def raisee(self):\n",
    "        raise_rate = 0.3\n",
    "        result = 100+100*raise_rate\n",
    "        print('EEE: ',result)"
   ]
  },
  {
   "cell_type": "code",
   "execution_count": 112,
   "id": "291d142c-4c32-4881-b98d-c0a77c833616",
   "metadata": {},
   "outputs": [],
   "source": [
    "e1 = Employee()\n",
    "ce = CompEng()\n",
    "eee = EEE()"
   ]
  },
  {
   "cell_type": "code",
   "execution_count": 116,
   "id": "d33f25da-b619-48b8-a6df-f610fc10ea45",
   "metadata": {},
   "outputs": [
    {
     "name": "stdout",
     "output_type": "stream",
     "text": [
      "CompEng:  120.0\n",
      "EEE:  130.0\n"
     ]
    }
   ],
   "source": [
    "employee_list = [ce,eee]\n",
    "\n",
    "for employee in employee_list:\n",
    "    employee.raisee()"
   ]
  },
  {
   "cell_type": "markdown",
   "id": "17397445-8618-4bd5-9630-3c728820fa77",
   "metadata": {},
   "source": [
    "### <font color=gold>**12. Konu Anlatimi Final Projesi**</font>"
   ]
  },
  {
   "cell_type": "code",
   "execution_count": 123,
   "id": "f0dbfbd7-4503-41e4-83c9-e31af306f8fd",
   "metadata": {},
   "outputs": [],
   "source": [
    "from abc import ABC, abstractmethod\n",
    "\n",
    "#inheritance\n",
    "class Shape(ABC):\n",
    "    '''\n",
    "        Shape = super class / abstract class\n",
    "    '''\n",
    "    # abstract method\n",
    "    @abstractmethod\n",
    "    def area(self): pass\n",
    "    @abstractmethod\n",
    "    def perimeter(self): pass\n",
    "    \n",
    "    # overriding and polymorphism\n",
    "    def toString(self): pass\n",
    "\n",
    "#child class\n",
    "class Square(Shape):\n",
    "    'sub class'\n",
    "    def __init__(self,edge):\n",
    "        self.__edge = edge # encapsulation private attribute\n",
    "    \n",
    "    def area(self):\n",
    "        result = self.__edge**2\n",
    "        print('Square Area:',result)\n",
    "        \n",
    "    def perimeter(self):\n",
    "        result = self.__edge*4\n",
    "        print('Square Perimeter:',result)\n",
    "        \n",
    "    # overriding and polymorphism\n",
    "    def toString(self):\n",
    "        print('Square Edge:',self.__edge)\n",
    "        \n",
    "#child class\n",
    "class Circle(Shape):\n",
    "    'circle class'\n",
    "    PI = 3.14 #Constant Variable (Sonucu hicbir yerde degismeyen)\n",
    "   \n",
    "    def __init__(self,radius):\n",
    "        self.__radius = radius\n",
    "        \n",
    "    def area(self):\n",
    "        result = self.PI*self.__radius**2\n",
    "        print('Circle Area:',result)\n",
    "        \n",
    "    def perimeter(self):\n",
    "        result = 2*self.PI*self.__radius\n",
    "        print('Circle Perimeter:',result)\n",
    "    \n",
    "    # overriding and polymorphism   \n",
    "    def toString(self):\n",
    "        print('Circle Radius:',self.__radius)"
   ]
  },
  {
   "cell_type": "code",
   "execution_count": 122,
   "id": "a4b42529-4d82-4f36-9671-03daf59c7d9b",
   "metadata": {},
   "outputs": [
    {
     "name": "stdout",
     "output_type": "stream",
     "text": [
      "Circle Area: 78.5\n",
      "Circle Perimeter: 31.400000000000002\n",
      "Circle Radius: 5\n"
     ]
    }
   ],
   "source": [
    "c = Circle(5)\n",
    "c.area()\n",
    "c.perimeter()\n",
    "c.toString()"
   ]
  },
  {
   "cell_type": "code",
   "execution_count": 124,
   "id": "90cc1ded-a06f-4294-a38f-f50589c09028",
   "metadata": {},
   "outputs": [
    {
     "name": "stdout",
     "output_type": "stream",
     "text": [
      "Square Area: 25\n",
      "Square Perimeter: 20\n",
      "Square Edge: 5\n"
     ]
    }
   ],
   "source": [
    "s = Square(5)\n",
    "s.area()\n",
    "s.perimeter()\n",
    "s.toString()"
   ]
  }
 ],
 "metadata": {
  "kernelspec": {
   "display_name": "Python 3 (ipykernel)",
   "language": "python",
   "name": "python3"
  },
  "language_info": {
   "codemirror_mode": {
    "name": "ipython",
    "version": 3
   },
   "file_extension": ".py",
   "mimetype": "text/x-python",
   "name": "python",
   "nbconvert_exporter": "python",
   "pygments_lexer": "ipython3",
   "version": "3.9.13"
  }
 },
 "nbformat": 4,
 "nbformat_minor": 5
}
