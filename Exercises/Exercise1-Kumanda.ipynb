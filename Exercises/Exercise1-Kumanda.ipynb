{
 "cells": [
  {
   "cell_type": "markdown",
   "id": "20e89adb-53a2-4fdc-b43e-9b66622f2187",
   "metadata": {
    "tags": []
   },
   "source": [
    "# <font color=orange>**Nesne Tabanli Programlamaya**</font>\n",
    "## <font color=gray>**(Object Oriented Programming)**</font>"
   ]
  },
  {
   "cell_type": "markdown",
   "id": "41302bab-59ad-477c-905e-e6a25d96289a",
   "metadata": {},
   "source": [
    "### <font color=gold>**Kumanda Sinifi Gelistirme**</font> <font color=gray>**(Exercise 1)**</font>"
   ]
  },
  {
   "cell_type": "code",
   "execution_count": 1,
   "id": "9dd08c48-c1f2-4baf-9f0d-494fd703e1ea",
   "metadata": {},
   "outputs": [],
   "source": [
    "import random\n",
    "import time"
   ]
  },
  {
   "cell_type": "code",
   "execution_count": 3,
   "id": "2abd638b-df83-4256-ac01-56a446fd1bed",
   "metadata": {},
   "outputs": [],
   "source": [
    "class Kumanda():\n",
    "    \n",
    "    def __init__(self, tv_durum = 'Kapali', tv_ses = 0, kanal_listesi = ['TRT'], kanal = 'TRT'):\n",
    "        \n",
    "        self.tv_durum      = tv_durum\n",
    "        self.tv_ses        = tv_ses\n",
    "        self.kanal_listesi = kanal_listesi\n",
    "        self.kanal         = kanal\n",
    "        \n",
    "    def tv_ac(self):\n",
    "        \n",
    "        if (self.tv_durum == 'Acik'):\n",
    "            print('Televizyon zaten acik...')\n",
    "            \n",
    "        else:\n",
    "            print('Televizyon aciliyor...')\n",
    "            self.tv_durum = 'Acik'\n",
    "            \n",
    "    def tv_kapat(self):\n",
    "        \n",
    "        if (self.tv_durum == 'Kapali'):\n",
    "            print('Televizyon zaten kapali')\n",
    "        \n",
    "        else: \n",
    "            print('Televizyon kapaniyor...')\n",
    "            self.tv_durum = 'Kapali'\n",
    "            \n",
    "    def ses_ayarlari(self):\n",
    "        \n",
    "        while True:\n",
    "            cevap = input(\"Sesi Azalt: '<'\\nSesi Artir: '>'\\nCikis: Cikis \")\n",
    "            \n",
    "            if (cevap == '<'):\n",
    "                if (self.tv_ses != 0):\n",
    "                    self.tv_ses -= 1\n",
    "                    print('Ses: ',self.tv_ses)\n",
    "             \n",
    "            elif (cevap == '>'):\n",
    "                if (self.tv_ses != 31):\n",
    "                    self.tv_ses += 1\n",
    "                    print('Ses:',self.tv_ses)\n",
    "                    \n",
    "            else:\n",
    "                print('Ses ayarlari guncellendi:',self.tv_ses)\n",
    "                break\n",
    "                \n",
    "    \n",
    "    def kanal_ekle(self,kanal_ismi):\n",
    "        print('Kanal ekleniyor...')\n",
    "        \n",
    "        # biraz gecikmeli gerceklesmesini istiyorsak:\n",
    "        time.sleep(1)\n",
    "        \n",
    "        self.kanal_listesi.append(kanal_ismi)\n",
    "        print('Kanal Eklendi...')\n",
    "        \n",
    "    def rastgele_kanal(self):\n",
    "        rastgele = random.randint(0,len(self.kanal_listesi)-1)\n",
    "        \n",
    "        self.kanal = self.kanal_listesi[rastgele]\n",
    "        print('Su anki Kanal:',self.kanal)\n",
    "        \n",
    "    def __len__(self): #ozel metot uygulama\n",
    "        \n",
    "        return len(self.kanal_listesi)\n",
    "        \n",
    "    def __str__(self):\n",
    "        \n",
    "        return 'Tv Durumu: {}\\nTv Ses: {}\\nKanal Listesi: {}\\nSu anki Kanal: {}\\n'.format(self.tv_durum,self.tv_ses, self.kanal_listesi,self.kanal)"
   ]
  },
  {
   "cell_type": "code",
   "execution_count": 4,
   "id": "a1b43cb3-2963-477e-98ac-baac2458e4ff",
   "metadata": {},
   "outputs": [],
   "source": [
    "# Kumanda sinifina dahil etmek icin bir obje eklenir:\n",
    "kumanda = Kumanda()"
   ]
  },
  {
   "cell_type": "code",
   "execution_count": 5,
   "id": "908f0af1-0ea4-45c1-8c28-de32da44b827",
   "metadata": {},
   "outputs": [
    {
     "name": "stdout",
     "output_type": "stream",
     "text": [
      "\n",
      "\n",
      "Televizyon Uygulamasi\n",
      "\n",
      "1. TV Ac\n",
      "2. TV Kapat\n",
      "3. Ses Ayarlari\n",
      "4. Kanal Ekle\n",
      "5. Kanal Sayisini Ogrenme\n",
      "6. Rastgele Kanala Gecme\n",
      "7. Televizyon Bilgileri\n",
      "\n",
      "Cikmak icin 'q' ya basin.\n",
      "\n"
     ]
    },
    {
     "name": "stdin",
     "output_type": "stream",
     "text": [
      "Islemi Seciniz: 7\n"
     ]
    },
    {
     "name": "stdout",
     "output_type": "stream",
     "text": [
      "Tv Durumu: Kapali\n",
      "Tv Ses: 0\n",
      "Kanal Listesi: ['TRT']\n",
      "Su anki Kanal: TRT\n",
      "\n"
     ]
    },
    {
     "name": "stdin",
     "output_type": "stream",
     "text": [
      "Islemi Seciniz: 1\n"
     ]
    },
    {
     "name": "stdout",
     "output_type": "stream",
     "text": [
      "Televizyon aciliyor...\n"
     ]
    },
    {
     "name": "stdin",
     "output_type": "stream",
     "text": [
      "Islemi Seciniz: 1\n"
     ]
    },
    {
     "name": "stdout",
     "output_type": "stream",
     "text": [
      "Televizyon zaten acik...\n"
     ]
    },
    {
     "name": "stdin",
     "output_type": "stream",
     "text": [
      "Islemi Seciniz: 2\n"
     ]
    },
    {
     "name": "stdout",
     "output_type": "stream",
     "text": [
      "Televizyon kapaniyor...\n"
     ]
    },
    {
     "name": "stdin",
     "output_type": "stream",
     "text": [
      "Islemi Seciniz: 2\n"
     ]
    },
    {
     "name": "stdout",
     "output_type": "stream",
     "text": [
      "Televizyon zaten kapali\n"
     ]
    },
    {
     "name": "stdin",
     "output_type": "stream",
     "text": [
      "Islemi Seciniz: 1\n"
     ]
    },
    {
     "name": "stdout",
     "output_type": "stream",
     "text": [
      "Televizyon aciliyor...\n"
     ]
    },
    {
     "name": "stdin",
     "output_type": "stream",
     "text": [
      "Islemi Seciniz: 3\n",
      "Sesi Azalt: '<'\n",
      "Sesi Artir: '>'\n",
      "Cikis: Cikis  <\n",
      "Sesi Azalt: '<'\n",
      "Sesi Artir: '>'\n",
      "Cikis: Cikis  <\n",
      "Sesi Azalt: '<'\n",
      "Sesi Artir: '>'\n",
      "Cikis: Cikis  >\n"
     ]
    },
    {
     "name": "stdout",
     "output_type": "stream",
     "text": [
      "Ses: 1\n"
     ]
    },
    {
     "name": "stdin",
     "output_type": "stream",
     "text": [
      "Sesi Azalt: '<'\n",
      "Sesi Artir: '>'\n",
      "Cikis: Cikis  >\n"
     ]
    },
    {
     "name": "stdout",
     "output_type": "stream",
     "text": [
      "Ses: 2\n"
     ]
    },
    {
     "name": "stdin",
     "output_type": "stream",
     "text": [
      "Sesi Azalt: '<'\n",
      "Sesi Artir: '>'\n",
      "Cikis: Cikis  >\n"
     ]
    },
    {
     "name": "stdout",
     "output_type": "stream",
     "text": [
      "Ses: 3\n"
     ]
    },
    {
     "name": "stdin",
     "output_type": "stream",
     "text": [
      "Sesi Azalt: '<'\n",
      "Sesi Artir: '>'\n",
      "Cikis: Cikis  >\n"
     ]
    },
    {
     "name": "stdout",
     "output_type": "stream",
     "text": [
      "Ses: 4\n"
     ]
    },
    {
     "name": "stdin",
     "output_type": "stream",
     "text": [
      "Sesi Azalt: '<'\n",
      "Sesi Artir: '>'\n",
      "Cikis: Cikis  <\n"
     ]
    },
    {
     "name": "stdout",
     "output_type": "stream",
     "text": [
      "Ses:  3\n"
     ]
    },
    {
     "name": "stdin",
     "output_type": "stream",
     "text": [
      "Sesi Azalt: '<'\n",
      "Sesi Artir: '>'\n",
      "Cikis: Cikis  cikis\n"
     ]
    },
    {
     "name": "stdout",
     "output_type": "stream",
     "text": [
      "Ses ayarlari guncellendi: 3\n"
     ]
    },
    {
     "name": "stdin",
     "output_type": "stream",
     "text": [
      "Islemi Seciniz: 4\n",
      "kanal isimlerini', ',' ile ayirarak giriniz: ATV, NTV, SRT\n"
     ]
    },
    {
     "name": "stdout",
     "output_type": "stream",
     "text": [
      "Kanal ekleniyor...\n",
      "Kanal Eklendi...\n",
      "Kanal ekleniyor...\n",
      "Kanal Eklendi...\n",
      "Kanal ekleniyor...\n",
      "Kanal Eklendi...\n"
     ]
    },
    {
     "name": "stdin",
     "output_type": "stream",
     "text": [
      "Islemi Seciniz: 7\n"
     ]
    },
    {
     "name": "stdout",
     "output_type": "stream",
     "text": [
      "Tv Durumu: Acik\n",
      "Tv Ses: 3\n",
      "Kanal Listesi: ['TRT', 'ATV', ' NTV', ' SRT']\n",
      "Su anki Kanal: TRT\n",
      "\n"
     ]
    },
    {
     "name": "stdin",
     "output_type": "stream",
     "text": [
      "Islemi Seciniz: 6\n"
     ]
    },
    {
     "name": "stdout",
     "output_type": "stream",
     "text": [
      "Su anki Kanal: ATV\n"
     ]
    },
    {
     "name": "stdin",
     "output_type": "stream",
     "text": [
      "Islemi Seciniz: 6\n"
     ]
    },
    {
     "name": "stdout",
     "output_type": "stream",
     "text": [
      "Su anki Kanal: TRT\n"
     ]
    },
    {
     "name": "stdin",
     "output_type": "stream",
     "text": [
      "Islemi Seciniz: 6\n"
     ]
    },
    {
     "name": "stdout",
     "output_type": "stream",
     "text": [
      "Su anki Kanal:  NTV\n"
     ]
    },
    {
     "name": "stdin",
     "output_type": "stream",
     "text": [
      "Islemi Seciniz: 5\n"
     ]
    },
    {
     "name": "stdout",
     "output_type": "stream",
     "text": [
      "Kanal sayisi: 4\n"
     ]
    },
    {
     "name": "stdin",
     "output_type": "stream",
     "text": [
      "Islemi Seciniz: q\n"
     ]
    },
    {
     "name": "stdout",
     "output_type": "stream",
     "text": [
      "Program Sonlandiriliyor...\n"
     ]
    }
   ],
   "source": [
    "# Hazirlanan kumanda sinifini kullanma:\n",
    "\n",
    "print(\"\"\"\n",
    "\n",
    "Televizyon Uygulamasi\n",
    "\n",
    "1. TV Ac\n",
    "2. TV Kapat\n",
    "3. Ses Ayarlari\n",
    "4. Kanal Ekle\n",
    "5. Kanal Sayisini Ogrenme\n",
    "6. Rastgele Kanala Gecme\n",
    "7. Televizyon Bilgileri\n",
    "\n",
    "Cikmak icin 'q' ya basin.\n",
    "\"\"\")\n",
    "\n",
    "\n",
    "while True:\n",
    "    islem = input('Islemi Seciniz:')\n",
    "    \n",
    "    if (islem == 'q'):\n",
    "        print('Program Sonlandiriliyor...')\n",
    "        break\n",
    "        \n",
    "    elif (islem == '1'):\n",
    "        kumanda.tv_ac()\n",
    "    \n",
    "    elif (islem == '2'):\n",
    "        kumanda.tv_kapat()\n",
    "        \n",
    "    elif (islem == '3'):\n",
    "        kumanda.ses_ayarlari()\n",
    "        \n",
    "    elif (islem == '4'):\n",
    "        \n",
    "        kanal_isimleri = input(\"kanal isimlerini', ',' ile ayirarak giriniz:\")\n",
    "        kanal_listesi = kanal_isimleri.split(',')\n",
    "        \n",
    "        for eklenecekler in kanal_listesi:\n",
    "            kumanda.kanal_ekle(eklenecekler)\n",
    "        \n",
    "    elif (islem == '5'):\n",
    "        print('Kanal sayisi:',len(kumanda))\n",
    "        \n",
    "    \n",
    "    elif (islem == '6'):\n",
    "        kumanda.rastgele_kanal()\n",
    "        \n",
    "    elif (islem == '7'):\n",
    "        print(kumanda)\n",
    "        \n",
    "    else:\n",
    "        print('Gecersiz Islem.....')"
   ]
  },
  {
   "cell_type": "markdown",
   "id": "a0650410-29d5-406d-b93b-7d052d9bed07",
   "metadata": {},
   "source": [
    "### <font color=gold>**Bilgisayar Sinifi**</font> <font color=gray>**(Exercise 2)**</font>"
   ]
  },
  {
   "cell_type": "code",
   "execution_count": 1,
   "id": "a0f21892-bbf8-4357-b57e-a8f3b66e200e",
   "metadata": {},
   "outputs": [],
   "source": [
    "import time\n",
    "\n",
    "\n",
    "class Bilgisayar():\n",
    "    \n",
    "    def __init__(self,PC_Status='Off',Device_Name='Dell',\n",
    "                 Processor='Intel i5',RAM_GB=8,\n",
    "                 System_Type='64-bit',Edition='Windows11',\n",
    "                 Graphic_Memory_GB=4,SSD_GB=500,\n",
    "                 Input_Devices=['Mouse','Keyboard'],Languages=['English'],\n",
    "                 SoundLevel=100,Brightness=10):\n",
    "        \n",
    "        self.PC_Status         = PC_Status\n",
    "        self.Device_Name       = Device_Name\n",
    "        self.Processor         = Processor\n",
    "        self.RAM_GB            = RAM_GB\n",
    "        self.System_Type       = System_Type\n",
    "        self.Edition           = Edition\n",
    "        self.Graphic_Memory_GB = Graphic_Memory_GB\n",
    "        self.SSD_GB            = SSD_GB\n",
    "        self.Input_Devices     = Input_Devices\n",
    "        self.Languages         = Languages\n",
    "        \n",
    "    def pcOpen(self):\n",
    "        if (self.PC_Status == 'On'):\n",
    "            print('Bilgisayar su an acik!')\n",
    "        else:\n",
    "            print('Bilgisayar aciliyor...')\n",
    "            time.sleep(3)\n",
    "            print('Bilgisayar kullanima hazir...')\n",
    "            self.PC_Status = 'On'\n",
    "\n",
    "            \n",
    "    def kullaniciAdiDegistir(self):\n",
    "        NewDeviceName = input('Yeni kullanici adi giriniz: ')\n",
    "        time.sleep(2)\n",
    "        print('Kullanici Adi degistiriliyor...')\n",
    "        self.Device_Name.replace(NewDeviceName)\n",
    "        \n",
    "    \n",
    "    def islemBirimiGuncelle(self):\n",
    "        print('''\n",
    "         PC Islem Birimleri\n",
    "        1  RAM\n",
    "        2  SSD\n",
    "        3  Graphic Memory \n",
    "        \n",
    "        Cikmak icin 'q' ya basiniz.\n",
    "        ''')\n",
    "        piece = input('Guncellenecek islem birimini seciniz:\\n')\n",
    "        while True:\n",
    "            \n",
    "\n",
    "            if (piece == 1):\n",
    "                print('''\n",
    "                Artirmak icin: + \n",
    "                Azaltmak icin: -\n",
    "                Cikmak icin:   x\n",
    "                ''')\n",
    "                \n",
    "                islem = input('Yapilacak islemi seciniz:  ')\n",
    "                \n",
    "                if (islem == '+'):\n",
    "                    deger = input('Artirmak istediginiz degeri giriniz: ')\n",
    "                    self.RAM_GB += deger\n",
    "                    time.sleep(1)\n",
    "                    print('{} GB yukseltme islemi uygulandi...'.format(deger))\n",
    "\n",
    "                elif (islem == '-'):\n",
    "                    deger = input('Azaltmak istediginiz degeri giriniz: ')\n",
    "                    self.RAM_GB -= deger\n",
    "                    time.sleep(1)\n",
    "                    print('{} GB azaltma islemi uygulandi...'.format(deger))\n",
    "\n",
    "                elif (islem == 'x'):\n",
    "                    print('islemden cikiliyor...')\n",
    "                    break\n",
    "                    \n",
    "                else:\n",
    "                    print('Hatali deger girdiniz...')\n",
    "                    \n",
    "            elif (piece == 'q'):\n",
    "                break\n",
    "                    \n",
    "        \n",
    "                    \n",
    "            \n",
    "            \n",
    "            \n",
    "            \n",
    "            \n",
    "            \n",
    "            \n",
    "            \n",
    "            \n",
    "            \n",
    "    def pcShutdown(self):\n",
    "        if (self.PC_Status == 'Off'):\n",
    "            print('Bilgisayar zaten kapatildi!')\n",
    "            \n",
    "        else:\n",
    "            print('Bilgisayar kapaniyor....')\n",
    "            self.PC_Status = 'Off'"
   ]
  },
  {
   "cell_type": "code",
   "execution_count": 2,
   "id": "a48dc2bf-9eb0-4578-8a50-a85485118e4b",
   "metadata": {},
   "outputs": [],
   "source": [
    "pc1 = Bilgisayar()"
   ]
  },
  {
   "cell_type": "code",
   "execution_count": null,
   "id": "bbcb2ef4-3657-4da3-984e-d65381a28e3a",
   "metadata": {},
   "outputs": [
    {
     "name": "stdout",
     "output_type": "stream",
     "text": [
      "\n",
      "         PC Islem Birimleri\n",
      "        1  RAM\n",
      "        2  SSD\n",
      "        3  Graphic Memory \n",
      "        \n",
      "        Cikmak icin 'q' ya basiniz.\n",
      "        \n"
     ]
    },
    {
     "name": "stdin",
     "output_type": "stream",
     "text": [
      "Guncellenecek islem birimini seciniz:\n",
      " 1\n"
     ]
    }
   ],
   "source": [
    "pc1.islemBirimiGuncelle()"
   ]
  },
  {
   "cell_type": "code",
   "execution_count": null,
   "id": "14bededb-cddc-4d5e-8686-4efedbbc6d42",
   "metadata": {},
   "outputs": [],
   "source": []
  }
 ],
 "metadata": {
  "kernelspec": {
   "display_name": "Python 3 (ipykernel)",
   "language": "python",
   "name": "python3"
  },
  "language_info": {
   "codemirror_mode": {
    "name": "ipython",
    "version": 3
   },
   "file_extension": ".py",
   "mimetype": "text/x-python",
   "name": "python",
   "nbconvert_exporter": "python",
   "pygments_lexer": "ipython3",
   "version": "3.9.15"
  }
 },
 "nbformat": 4,
 "nbformat_minor": 5
}
