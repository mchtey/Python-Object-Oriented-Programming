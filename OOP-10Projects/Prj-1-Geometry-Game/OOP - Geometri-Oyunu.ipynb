{
 "cells": [
  {
   "cell_type": "code",
   "execution_count": 43,
   "id": "1186f361-6bb2-4fe8-ac78-67cc712659f2",
   "metadata": {},
   "outputs": [],
   "source": [
    "inty = 5\n",
    "listy = [6, 7]\n",
    "stringy = 'Hi'\n",
    "\n",
    "import folium\n",
    "azores = folium.folium.Map(location=(40, 38),zoom_start = 5)"
   ]
  },
  {
   "cell_type": "code",
   "execution_count": 44,
   "id": "75d502d9-e5d4-4219-b1af-4f43e59560a5",
   "metadata": {},
   "outputs": [
    {
     "data": {
      "text/html": [
       "<div style=\"width:100%;\"><div style=\"position:relative;width:100%;height:0;padding-bottom:60%;\"><span style=\"color:#565656\">Make this Notebook Trusted to load map: File -> Trust Notebook</span><iframe srcdoc=\"&lt;!DOCTYPE html&gt;\n",
       "&lt;html&gt;\n",
       "&lt;head&gt;\n",
       "    \n",
       "    &lt;meta http-equiv=&quot;content-type&quot; content=&quot;text/html; charset=UTF-8&quot; /&gt;\n",
       "    \n",
       "        &lt;script&gt;\n",
       "            L_NO_TOUCH = false;\n",
       "            L_DISABLE_3D = false;\n",
       "        &lt;/script&gt;\n",
       "    \n",
       "    &lt;style&gt;html, body {width: 100%;height: 100%;margin: 0;padding: 0;}&lt;/style&gt;\n",
       "    &lt;style&gt;#map {position:absolute;top:0;bottom:0;right:0;left:0;}&lt;/style&gt;\n",
       "    &lt;script src=&quot;https://cdn.jsdelivr.net/npm/leaflet@1.9.3/dist/leaflet.js&quot;&gt;&lt;/script&gt;\n",
       "    &lt;script src=&quot;https://code.jquery.com/jquery-1.12.4.min.js&quot;&gt;&lt;/script&gt;\n",
       "    &lt;script src=&quot;https://cdn.jsdelivr.net/npm/bootstrap@5.2.2/dist/js/bootstrap.bundle.min.js&quot;&gt;&lt;/script&gt;\n",
       "    &lt;script src=&quot;https://cdnjs.cloudflare.com/ajax/libs/Leaflet.awesome-markers/2.0.2/leaflet.awesome-markers.js&quot;&gt;&lt;/script&gt;\n",
       "    &lt;link rel=&quot;stylesheet&quot; href=&quot;https://cdn.jsdelivr.net/npm/leaflet@1.9.3/dist/leaflet.css&quot;/&gt;\n",
       "    &lt;link rel=&quot;stylesheet&quot; href=&quot;https://cdn.jsdelivr.net/npm/bootstrap@5.2.2/dist/css/bootstrap.min.css&quot;/&gt;\n",
       "    &lt;link rel=&quot;stylesheet&quot; href=&quot;https://netdna.bootstrapcdn.com/bootstrap/3.0.0/css/bootstrap.min.css&quot;/&gt;\n",
       "    &lt;link rel=&quot;stylesheet&quot; href=&quot;https://cdn.jsdelivr.net/npm/@fortawesome/fontawesome-free@6.2.0/css/all.min.css&quot;/&gt;\n",
       "    &lt;link rel=&quot;stylesheet&quot; href=&quot;https://cdnjs.cloudflare.com/ajax/libs/Leaflet.awesome-markers/2.0.2/leaflet.awesome-markers.css&quot;/&gt;\n",
       "    &lt;link rel=&quot;stylesheet&quot; href=&quot;https://cdn.jsdelivr.net/gh/python-visualization/folium/folium/templates/leaflet.awesome.rotate.min.css&quot;/&gt;\n",
       "    \n",
       "            &lt;meta name=&quot;viewport&quot; content=&quot;width=device-width,\n",
       "                initial-scale=1.0, maximum-scale=1.0, user-scalable=no&quot; /&gt;\n",
       "            &lt;style&gt;\n",
       "                #map_229c770e520f3d5652e4ec6aea2b7dfe {\n",
       "                    position: relative;\n",
       "                    width: 100.0%;\n",
       "                    height: 100.0%;\n",
       "                    left: 0.0%;\n",
       "                    top: 0.0%;\n",
       "                }\n",
       "                .leaflet-container { font-size: 1rem; }\n",
       "            &lt;/style&gt;\n",
       "        \n",
       "&lt;/head&gt;\n",
       "&lt;body&gt;\n",
       "    \n",
       "    \n",
       "            &lt;div class=&quot;folium-map&quot; id=&quot;map_229c770e520f3d5652e4ec6aea2b7dfe&quot; &gt;&lt;/div&gt;\n",
       "        \n",
       "&lt;/body&gt;\n",
       "&lt;script&gt;\n",
       "    \n",
       "    \n",
       "            var map_229c770e520f3d5652e4ec6aea2b7dfe = L.map(\n",
       "                &quot;map_229c770e520f3d5652e4ec6aea2b7dfe&quot;,\n",
       "                {\n",
       "                    center: [40.0, 38.0],\n",
       "                    crs: L.CRS.EPSG3857,\n",
       "                    zoom: 5,\n",
       "                    zoomControl: true,\n",
       "                    preferCanvas: false,\n",
       "                }\n",
       "            );\n",
       "\n",
       "            \n",
       "\n",
       "        \n",
       "    \n",
       "            var tile_layer_fc17667445c739dd06ce597f3d715555 = L.tileLayer(\n",
       "                &quot;https://{s}.tile.openstreetmap.org/{z}/{x}/{y}.png&quot;,\n",
       "                {&quot;attribution&quot;: &quot;Data by \\u0026copy; \\u003ca target=\\&quot;_blank\\&quot; href=\\&quot;http://openstreetmap.org\\&quot;\\u003eOpenStreetMap\\u003c/a\\u003e, under \\u003ca target=\\&quot;_blank\\&quot; href=\\&quot;http://www.openstreetmap.org/copyright\\&quot;\\u003eODbL\\u003c/a\\u003e.&quot;, &quot;detectRetina&quot;: false, &quot;maxNativeZoom&quot;: 18, &quot;maxZoom&quot;: 18, &quot;minZoom&quot;: 0, &quot;noWrap&quot;: false, &quot;opacity&quot;: 1, &quot;subdomains&quot;: &quot;abc&quot;, &quot;tms&quot;: false}\n",
       "            ).addTo(map_229c770e520f3d5652e4ec6aea2b7dfe);\n",
       "        \n",
       "&lt;/script&gt;\n",
       "&lt;/html&gt;\" style=\"position:absolute;width:100%;height:100%;left:0;top:0;border:none !important;\" allowfullscreen webkitallowfullscreen mozallowfullscreen></iframe></div></div>"
      ],
      "text/plain": [
       "<folium.folium.Map at 0x19f270ad160>"
      ]
     },
     "execution_count": 44,
     "metadata": {},
     "output_type": "execute_result"
    }
   ],
   "source": [
    "azores"
   ]
  },
  {
   "cell_type": "code",
   "execution_count": 45,
   "id": "41e5f58f-7da4-42b7-8806-9dc7ff89120d",
   "metadata": {},
   "outputs": [
    {
     "data": {
      "text/plain": [
       "'C:\\\\Users\\\\ithinka\\\\anaconda3\\\\lib\\\\site-packages\\\\folium\\\\__init__.py'"
      ]
     },
     "execution_count": 45,
     "metadata": {},
     "output_type": "execute_result"
    }
   ],
   "source": [
    "folium.__file__"
   ]
  },
  {
   "cell_type": "markdown",
   "id": "39f9b16a-2845-4891-9266-cea4eb5c3da2",
   "metadata": {},
   "source": [
    "---"
   ]
  },
  {
   "cell_type": "markdown",
   "id": "5e00b74a-36e1-4bcc-a365-f8d6d0684bbd",
   "metadata": {},
   "source": [
    "### Creating a method"
   ]
  },
  {
   "cell_type": "code",
   "execution_count": 46,
   "id": "0b32baa1-8cc3-4c90-a71e-7f8e93072994",
   "metadata": {},
   "outputs": [],
   "source": [
    "class Point:\n",
    "    \n",
    "    def __init__(self,x,y):\n",
    "        self.x = x\n",
    "        self.y = y"
   ]
  },
  {
   "cell_type": "code",
   "execution_count": 47,
   "id": "d4ddc44e-59bd-4efe-bb99-41f123106f24",
   "metadata": {},
   "outputs": [
    {
     "name": "stdout",
     "output_type": "stream",
     "text": [
      "7 8\n"
     ]
    }
   ],
   "source": [
    "point1 = Point(7,8)\n",
    "print(point1.x,point1.y)"
   ]
  },
  {
   "cell_type": "code",
   "execution_count": 48,
   "id": "e46918ab-2c52-420b-8b5d-618b75a7093a",
   "metadata": {},
   "outputs": [],
   "source": [
    "#Girilen noktanin dikdortgen icine dusup dusmeme durumu:\n",
    "\n",
    "class Point:\n",
    "    \n",
    "    def __init__(self,x,y):\n",
    "        self.x = x\n",
    "        self.y = y\n",
    "        \n",
    "    def falls_in_rectangle(self,lowleft,upright):\n",
    "        if lowleft[0] < self.x < upright[0] \\\n",
    "        and lowleft[1] < self.y < upright[1]:\n",
    "            return True\n",
    "        else:\n",
    "            return False"
   ]
  },
  {
   "cell_type": "code",
   "execution_count": 49,
   "id": "9ad1e04c-f2c1-43ed-93ef-97886b2fc522",
   "metadata": {},
   "outputs": [],
   "source": [
    "point2 = Point(3,4)"
   ]
  },
  {
   "cell_type": "code",
   "execution_count": 50,
   "id": "9784183a-02d2-4648-98b1-6de2887e55d3",
   "metadata": {},
   "outputs": [
    {
     "data": {
      "text/plain": [
       "False"
      ]
     },
     "execution_count": 50,
     "metadata": {},
     "output_type": "execute_result"
    }
   ],
   "source": [
    "point2.falls_in_rectangle((5,6),(7,9))"
   ]
  },
  {
   "cell_type": "code",
   "execution_count": 53,
   "id": "58d53c75-351c-464e-8f9d-92474df6294e",
   "metadata": {},
   "outputs": [
    {
     "data": {
      "text/plain": [
       "True"
      ]
     },
     "execution_count": 53,
     "metadata": {},
     "output_type": "execute_result"
    }
   ],
   "source": [
    "Point(3,4).falls_in_rectangle((1,1),(6,6))"
   ]
  },
  {
   "cell_type": "code",
   "execution_count": 54,
   "id": "1a721680-5b3d-4ce5-8666-a603424211ab",
   "metadata": {},
   "outputs": [],
   "source": [
    "class Point:\n",
    "    \n",
    "    def __init__(self,x,y):\n",
    "        print('Hey, I am __init!')\n",
    "        self.x = x\n",
    "        self.y = y\n",
    "        \n",
    "    def falls_in_rectangle(self,lowleft,upright):\n",
    "        print('I am ordinary!')\n",
    "        if lowleft[0] < self.x < upright[0] \\\n",
    "        and lowleft[1] < self.y < upright[1]:\n",
    "            return True\n",
    "        else:\n",
    "            return False"
   ]
  },
  {
   "cell_type": "code",
   "execution_count": 55,
   "id": "3fe023ec-debd-4e6b-b607-c8c7b2a833be",
   "metadata": {},
   "outputs": [
    {
     "name": "stdout",
     "output_type": "stream",
     "text": [
      "Hey, I am __init!\n"
     ]
    }
   ],
   "source": [
    "point = Point(3,5)"
   ]
  },
  {
   "cell_type": "code",
   "execution_count": 56,
   "id": "543352ef-cdc5-4cc1-a00a-98825352fda0",
   "metadata": {},
   "outputs": [
    {
     "name": "stdout",
     "output_type": "stream",
     "text": [
      "I am ordinary!\n"
     ]
    },
    {
     "data": {
      "text/plain": [
       "True"
      ]
     },
     "execution_count": 56,
     "metadata": {},
     "output_type": "execute_result"
    }
   ],
   "source": [
    "point.falls_in_rectangle((1,3),(8,9))"
   ]
  },
  {
   "cell_type": "markdown",
   "id": "a259bf24-d518-4b87-ac3d-16b68bebe25f",
   "metadata": {},
   "source": [
    "---"
   ]
  },
  {
   "cell_type": "code",
   "execution_count": 57,
   "id": "e3911a28-5020-4f56-81eb-81736c859a15",
   "metadata": {},
   "outputs": [],
   "source": [
    "# distance_from_point metodu ekleme: uzaklik hesabi yapma\n",
    "\n",
    "class Point:\n",
    "    \n",
    "    def __init__(self,x,y):\n",
    "        self.x = x\n",
    "        self.y = y\n",
    "        \n",
    "    def falls_in_rectangle(self,lowleft,upright):\n",
    "        if lowleft[0] < self.x < upright[0] \\\n",
    "        and lowleft[1] < self.y < upright[1]:\n",
    "            return True\n",
    "        else:\n",
    "            return False\n",
    "        \n",
    "    def distance_from_point(self, x, y):\n",
    "        return ((self.x - x)**2 + (self.y - y)**2)**.5"
   ]
  },
  {
   "cell_type": "code",
   "execution_count": 58,
   "id": "c039ea75-fa3a-47e7-937b-3f1944f6dffc",
   "metadata": {},
   "outputs": [],
   "source": [
    "point1 = Point(1,1)"
   ]
  },
  {
   "cell_type": "code",
   "execution_count": 59,
   "id": "7027a1b6-c74b-4aeb-8b45-f633358742c5",
   "metadata": {},
   "outputs": [
    {
     "data": {
      "text/plain": [
       "2.8284271247461903"
      ]
     },
     "execution_count": 59,
     "metadata": {},
     "output_type": "execute_result"
    }
   ],
   "source": [
    "point1.distance_from_point(3,3)"
   ]
  },
  {
   "cell_type": "markdown",
   "id": "f079677e-95f3-4e57-b6a5-85b7aa9d70b8",
   "metadata": {},
   "source": [
    "---"
   ]
  },
  {
   "cell_type": "code",
   "execution_count": 16,
   "id": "258e759c-9fb5-4fe4-a6de-1eb94ff61e73",
   "metadata": {},
   "outputs": [],
   "source": [
    "class Point:\n",
    "    \n",
    "    def __init__(self,x,y):\n",
    "        self.x = x\n",
    "        self.y = y\n",
    "        \n",
    "    def falls_in_rectangle(self,rectangle):\n",
    "        \n",
    "        if rectangle.lowleft.x < self.x < rectangle.upright.x \\\n",
    "        and rectangle.lowleft.y < self.y < rectangle.upright.y:\n",
    "            return True\n",
    "        else:\n",
    "            return False"
   ]
  },
  {
   "cell_type": "code",
   "execution_count": 17,
   "id": "845344eb-87d9-418b-8261-a23d38b1592c",
   "metadata": {},
   "outputs": [],
   "source": [
    "class Rectangle:\n",
    "    # sol alt kosei ve sag ust kosesi olan bir dikdortgen tanimlayabiliriz. \n",
    "    def __init__(self, lowleft, upright):\n",
    "        self.lowleft = lowleft\n",
    "        self.upright = upright"
   ]
  },
  {
   "cell_type": "code",
   "execution_count": 18,
   "id": "a20eb585-fb0e-4d98-859a-3fdc8743ebd2",
   "metadata": {},
   "outputs": [],
   "source": [
    "pointx = Point(6, 7)"
   ]
  },
  {
   "cell_type": "code",
   "execution_count": 19,
   "id": "5e6a2ae9-71e1-4dd5-a666-9f12f6c36c33",
   "metadata": {},
   "outputs": [],
   "source": [
    "rectanglex = Rectangle(Point(5,6), Point(7,9))"
   ]
  },
  {
   "cell_type": "code",
   "execution_count": 20,
   "id": "e6f724d4-f5b0-4a5a-8f59-2533ac1415f8",
   "metadata": {},
   "outputs": [
    {
     "data": {
      "text/plain": [
       "True"
      ]
     },
     "execution_count": 20,
     "metadata": {},
     "output_type": "execute_result"
    }
   ],
   "source": [
    "pointx.falls_in_rectangle(rectanglex)"
   ]
  },
  {
   "cell_type": "markdown",
   "id": "adce6229-1f05-4f19-9e51-7eaa0488d9bc",
   "metadata": {},
   "source": [
    "---"
   ]
  },
  {
   "cell_type": "code",
   "execution_count": 4,
   "id": "fe175295-7c8c-4e1a-848d-e338e91b1519",
   "metadata": {},
   "outputs": [],
   "source": [
    "from random import randint"
   ]
  },
  {
   "cell_type": "code",
   "execution_count": 5,
   "id": "93ff5bd5-e38e-4743-9a33-d849d4e437cc",
   "metadata": {},
   "outputs": [],
   "source": [
    "class Point:\n",
    "    \n",
    "    def __init__(self,x,y):\n",
    "        self.x = x\n",
    "        self.y = y\n",
    "        \n",
    "    def falls_in_rectangle(self, rectangle):\n",
    "        if rectangle.lowleft.x < self.x < rectangle.upright.x \\\n",
    "        and rectangle.lowleft.y < self.y < rectangle.upright.y:\n",
    "            return True\n",
    "        else:\n",
    "            return False\n",
    "        \n",
    "class Rectangle:\n",
    "    \n",
    "    def __init__(self,lowleft,upright):\n",
    "        self.lowleft = lowleft\n",
    "        self.upright = upright\n"
   ]
  },
  {
   "cell_type": "code",
   "execution_count": 6,
   "id": "55fc75e7-2811-4c3e-be15-72db27c77644",
   "metadata": {},
   "outputs": [],
   "source": [
    "rectangle = Rectangle(Point(randint(0,9), randint(0,9)),\n",
    "                      Point(randint(10,19), randint(10,19)))"
   ]
  },
  {
   "cell_type": "code",
   "execution_count": 13,
   "id": "dfcc10cb-8311-43ae-8651-3953d42ff334",
   "metadata": {},
   "outputs": [
    {
     "name": "stdout",
     "output_type": "stream",
     "text": [
      "Rectangle Coordinate:  3 , 4 and 19 , 15\n"
     ]
    },
    {
     "name": "stdin",
     "output_type": "stream",
     "text": [
      "Guess X:  5\n",
      "Guess Y:  6\n"
     ]
    },
    {
     "name": "stdout",
     "output_type": "stream",
     "text": [
      "Your point was inside rectangle:  True\n"
     ]
    }
   ],
   "source": [
    "print('Rectangle Coordinate: ',\n",
    "     rectangle.lowleft.x, ',',\n",
    "     rectangle.lowleft.y, 'and',\n",
    "     rectangle.upright.x, ',',\n",
    "     rectangle.upright.y)\n",
    "\n",
    "# Simdi kullanici tarafindan verilen bir noktanin dikdortgen icinde olup olmadigini sorgulama:\n",
    "\n",
    "user_point = Point(float(input('Guess X: ')),\n",
    "                   float(input('Guess Y: ')))\n",
    "\n",
    "print('Your point was inside rectangle: ',\n",
    "     user_point.falls_in_rectangle(rectangle))"
   ]
  },
  {
   "cell_type": "code",
   "execution_count": 14,
   "id": "7f48d2a0-8da2-493e-8344-c415653f1b9a",
   "metadata": {
    "collapsed": true,
    "jupyter": {
     "outputs_hidden": true
    },
    "tags": []
   },
   "outputs": [
    {
     "data": {
      "text/plain": [
       "'\\nKullanicidan bu dikdortgenin, rastgele olusturulan herhangi bir\\ndikdortgen alanini tahmin etmelerini isteyelim.\\n'"
      ]
     },
     "execution_count": 14,
     "metadata": {},
     "output_type": "execute_result"
    }
   ],
   "source": [
    "'''\n",
    "Kullanicidan bu dikdortgenin, rastgele olusturulan herhangi bir\n",
    "dikdortgen alanini tahmin etmelerini isteyelim.\n",
    "'''"
   ]
  },
  {
   "cell_type": "code",
   "execution_count": 17,
   "id": "82c0e46d-0b93-44e0-b408-95adda2cde03",
   "metadata": {},
   "outputs": [
    {
     "name": "stdout",
     "output_type": "stream",
     "text": [
      "Rectangle Coordinate:  1 , 4 and 12 , 18\n"
     ]
    },
    {
     "name": "stdin",
     "output_type": "stream",
     "text": [
      "Guess X:  4\n",
      "Guess Y:  6\n",
      "Guess rectangle area:  12\n"
     ]
    },
    {
     "name": "stdout",
     "output_type": "stream",
     "text": [
      "Your point was inside rectangle:  True\n",
      "Your area was off by:  142.0\n"
     ]
    }
   ],
   "source": [
    "from random import randint\n",
    "\n",
    "\n",
    "class Point:\n",
    "    \n",
    "    def __init__(self,x,y):\n",
    "        self.x = x\n",
    "        self.y = y\n",
    "        \n",
    "    def falls_in_rectangle(self, rectangle):\n",
    "        if rectangle.point1.x < self.x < rectangle.point2.x \\\n",
    "        and rectangle.point1.y < self.y < rectangle.point2.y:\n",
    "            return True\n",
    "        else:\n",
    "            return False\n",
    "        \n",
    "        \n",
    "class Rectangle:\n",
    "    \n",
    "    def __init__(self,point1,point2):\n",
    "        self.point1 = point1\n",
    "        self.point2 = point2\n",
    "        \n",
    "    def area(self):\n",
    "        return (self.point2.x - self.point1.x) * \\\n",
    "               (self.point2.y - self.point1.y)\n",
    "\n",
    "# Dikdortgen nesnelerini olusturma:      \n",
    "rectangle = Rectangle(Point(randint(0,9), randint(0,9)),\n",
    "                      Point(randint(10,19), randint(10,19)))\n",
    "\n",
    "# Dikdortgen koordinatlarini yazdirma\n",
    "print('Rectangle Coordinate: ',\n",
    "     rectangle.point1.x, ',',\n",
    "     rectangle.point1.y, 'and',\n",
    "     rectangle.point2.x, ',',\n",
    "     rectangle.point2.y)\n",
    "\n",
    "# Kullanicidan nokta ve alan girdisi alma:\n",
    "user_point = Point(float(input('Guess X: ')),\n",
    "                   float(input('Guess Y: ')))\n",
    "\n",
    "user_area = float(input('Guess rectangle area: '))\n",
    "\n",
    "# Sonuclari yazdirma:\n",
    "print('Your point was inside rectangle: ',\n",
    "     user_point.falls_in_rectangle(rectangle))\n",
    "\n",
    "print('Your area was off by: ',\n",
    "      rectangle.area() - user_area)"
   ]
  },
  {
   "cell_type": "code",
   "execution_count": null,
   "id": "897e1f2a-f83e-4391-b1cf-a826498a734b",
   "metadata": {},
   "outputs": [],
   "source": []
  }
 ],
 "metadata": {
  "kernelspec": {
   "display_name": "Python 3 (ipykernel)",
   "language": "python",
   "name": "python3"
  },
  "language_info": {
   "codemirror_mode": {
    "name": "ipython",
    "version": 3
   },
   "file_extension": ".py",
   "mimetype": "text/x-python",
   "name": "python",
   "nbconvert_exporter": "python",
   "pygments_lexer": "ipython3",
   "version": "3.9.15"
  }
 },
 "nbformat": 4,
 "nbformat_minor": 5
}
